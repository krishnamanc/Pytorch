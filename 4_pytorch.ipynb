{
 "cells": [
  {
   "cell_type": "code",
   "execution_count": 1,
   "metadata": {},
   "outputs": [],
   "source": [
    "import torch\n",
    "import torch.nn as nn\n",
    "import torch.nn.functional as F"
   ]
  },
  {
   "cell_type": "code",
   "execution_count": 2,
   "metadata": {},
   "outputs": [
    {
     "name": "stderr",
     "output_type": "stream",
     "text": [
      "c:\\Users\\manch\\AppData\\Local\\Programs\\Python\\Python39\\lib\\site-packages\\tqdm\\auto.py:21: TqdmWarning: IProgress not found. Please update jupyter and ipywidgets. See https://ipywidgets.readthedocs.io/en/stable/user_install.html\n",
      "  from .autonotebook import tqdm as notebook_tqdm\n"
     ]
    }
   ],
   "source": [
    "from torch.utils.data.dataloader import DataLoader\n",
    "from torchvision import datasets, transforms\n",
    "from torchvision.utils import make_grid"
   ]
  },
  {
   "cell_type": "code",
   "execution_count": 3,
   "metadata": {},
   "outputs": [],
   "source": [
    "import numpy as np\n",
    "import pandas as pd\n",
    "from sklearn.metrics import confusion_matrix\n",
    "import matplotlib.pyplot as plt\n",
    "%matplotlib inline"
   ]
  },
  {
   "cell_type": "code",
   "execution_count": 4,
   "metadata": {},
   "outputs": [],
   "source": [
    "# Convert mnist image files into a tensor of 4-Dimensions\n",
    "transform = transforms.ToTensor()"
   ]
  },
  {
   "cell_type": "code",
   "execution_count": 5,
   "metadata": {},
   "outputs": [],
   "source": [
    "# Model Class\n",
    "class Model(nn.Module):\n",
    "  def __init__(self):\n",
    "    super().__init__()\n",
    "    self.conv1 = nn.Conv2d(1, 12, 3, 1)\n",
    "    self.conv2 = nn.Conv2d(12, 22, 3, 1)\n",
    "    # Fully connected layer (torch.Size([1, 22, 5, 5])) here, 22*5*5 = 550\n",
    "    self.fc1 = nn.Linear(550, 320)\n",
    "    self.fc2 = nn.Linear(320, 160)\n",
    "    self.fc3 = nn.Linear(160, 80)\n",
    "    self.fc4 = nn.Linear(80, 40)\n",
    "    self.fc5 = nn.Linear(40, 20)\n",
    "    self.fc6 = nn.Linear(20, 10)\n",
    "\n",
    "  def forward(self, X):\n",
    "    X = F.relu(self.conv1(X))\n",
    "    X = F.max_pool2d(X, 2, 2)  # 2*2 kernal and stride length of 2\n",
    "    # Second Pass\n",
    "    X = F.relu(self.conv2(X))\n",
    "    X = F.max_pool2d(X, 2, 2)  # 2*2 kernal and stride length of 2\n",
    "\n",
    "    # Re-View to flatten it out\n",
    "    X = X.view(-1, 550)  # -1 so that we can vary the batch size\n",
    "\n",
    "    # Fully Connected layers\n",
    "    X = F.relu(self.fc1(X))\n",
    "    X = F.relu(self.fc2(X))\n",
    "    X = F.relu(self.fc3(X))\n",
    "    X = F.relu(self.fc4(X))\n",
    "    X = F.relu(self.fc5(X))\n",
    "    X = self.fc6(X)\n",
    "    return F.log_softmax(X, dim=1)"
   ]
  },
  {
   "cell_type": "code",
   "execution_count": 6,
   "metadata": {},
   "outputs": [
    {
     "data": {
      "text/plain": [
       "Model(\n",
       "  (conv1): Conv2d(1, 12, kernel_size=(3, 3), stride=(1, 1))\n",
       "  (conv2): Conv2d(12, 22, kernel_size=(3, 3), stride=(1, 1))\n",
       "  (fc1): Linear(in_features=550, out_features=320, bias=True)\n",
       "  (fc2): Linear(in_features=320, out_features=160, bias=True)\n",
       "  (fc3): Linear(in_features=160, out_features=80, bias=True)\n",
       "  (fc4): Linear(in_features=80, out_features=40, bias=True)\n",
       "  (fc5): Linear(in_features=40, out_features=20, bias=True)\n",
       "  (fc6): Linear(in_features=20, out_features=10, bias=True)\n",
       ")"
      ]
     },
     "execution_count": 6,
     "metadata": {},
     "output_type": "execute_result"
    }
   ],
   "source": [
    "model = Model()\n",
    "model"
   ]
  },
  {
   "cell_type": "code",
   "execution_count": 7,
   "metadata": {},
   "outputs": [
    {
     "data": {
      "text/plain": [
       "<All keys matched successfully>"
      ]
     },
     "execution_count": 7,
     "metadata": {},
     "output_type": "execute_result"
    }
   ],
   "source": [
    "model.load_state_dict(torch.load('mnistmodel.pt'))"
   ]
  },
  {
   "cell_type": "code",
   "execution_count": 8,
   "metadata": {},
   "outputs": [
    {
     "data": {
      "text/plain": [
       "Model(\n",
       "  (conv1): Conv2d(1, 12, kernel_size=(3, 3), stride=(1, 1))\n",
       "  (conv2): Conv2d(12, 22, kernel_size=(3, 3), stride=(1, 1))\n",
       "  (fc1): Linear(in_features=550, out_features=320, bias=True)\n",
       "  (fc2): Linear(in_features=320, out_features=160, bias=True)\n",
       "  (fc3): Linear(in_features=160, out_features=80, bias=True)\n",
       "  (fc4): Linear(in_features=80, out_features=40, bias=True)\n",
       "  (fc5): Linear(in_features=40, out_features=20, bias=True)\n",
       "  (fc6): Linear(in_features=20, out_features=10, bias=True)\n",
       ")"
      ]
     },
     "execution_count": 8,
     "metadata": {},
     "output_type": "execute_result"
    }
   ],
   "source": [
    "model.eval()"
   ]
  },
  {
   "cell_type": "code",
   "execution_count": 9,
   "metadata": {},
   "outputs": [],
   "source": [
    "from PIL import Image"
   ]
  },
  {
   "cell_type": "code",
   "execution_count": 63,
   "metadata": {},
   "outputs": [],
   "source": [
    "img = Image.open('real\\img_3.png')\n",
    "img = img.convert('L')\n",
    "img_tensor = transform(img).unsqueeze(0)"
   ]
  },
  {
   "cell_type": "code",
   "execution_count": 64,
   "metadata": {},
   "outputs": [
    {
     "data": {
      "text/plain": [
       "torch.Size([1, 1, 28, 28])"
      ]
     },
     "execution_count": 64,
     "metadata": {},
     "output_type": "execute_result"
    }
   ],
   "source": [
    "img_tensor.shape"
   ]
  },
  {
   "cell_type": "code",
   "execution_count": 65,
   "metadata": {},
   "outputs": [
    {
     "data": {
      "text/plain": [
       "<matplotlib.image.AxesImage at 0x1894408c730>"
      ]
     },
     "execution_count": 65,
     "metadata": {},
     "output_type": "execute_result"
    },
    {
     "data": {
      "image/png": "[encoded data removed]",
      "text/plain": [
       "<Figure size 640x480 with 1 Axes>"
      ]
     },
     "metadata": {},
     "output_type": "display_data"
    }
   ],
   "source": [
    "plt.imshow(img_tensor.squeeze().numpy(), cmap='gray')"
   ]
  },
  {
   "cell_type": "code",
   "execution_count": 66,
   "metadata": {},
   "outputs": [
    {
     "name": "stdout",
     "output_type": "stream",
     "text": [
      "Model predicted that the image is 8\n"
     ]
    }
   ],
   "source": [
    "prediction = torch.argmax(model(img_tensor))\n",
    "print(f\"Model predicted that the image is {prediction}\")"
   ]
  },
  {
   "cell_type": "code",
   "execution_count": null,
   "metadata": {},
   "outputs": [],
   "source": []
  }
 ],
 "metadata": {
  "kernelspec": {
   "display_name": "Python 3",
   "language": "python",
   "name": "python3"
  },
  "language_info": {
   "codemirror_mode": {
    "name": "ipython",
    "version": 3
   },
   "file_extension": ".py",
   "mimetype": "text/x-python",
   "name": "python",
   "nbconvert_exporter": "python",
   "pygments_lexer": "ipython3",
   "version": "3.9.7"
  }
 },
 "nbformat": 4,
 "nbformat_minor": 2
}
