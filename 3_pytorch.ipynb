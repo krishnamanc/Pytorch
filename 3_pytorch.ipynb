{
<<<<<<< HEAD
=======
  "nbformat": 4,
  "nbformat_minor": 0,
  "metadata": {
    "colab": {
      "provenance": [],
      "gpuType": "T4",
      "authorship_tag": "ABX9TyOnF6PP88mMZmf65uwohzC9",
      "include_colab_link": true
    },
    "kernelspec": {
      "name": "python3",
      "display_name": "Python 3"
    },
    "language_info": {
      "name": "python"
    },
    "accelerator": "GPU"
  },
>>>>>>> 46a820aedeac2956412d0d6c48a5edbb169522a1
  "cells": [
    {
      "cell_type": "markdown",
      "metadata": {
        "colab_type": "text",
        "id": "view-in-github"
      },
      "source": [
        "<a href=\"https://colab.research.google.com/github/krishnamanc/Pytorch/blob/main/3_pytorch.ipynb\" target=\"_parent\"><img src=\"https://colab.research.google.com/assets/colab-badge.svg\" alt=\"Open In Colab\"/></a>"
      ]
    },
    {
      "cell_type": "code",
      "execution_count": null,
      "metadata": {
        "id": "i1s1e7IuEaEl"
      },
      "outputs": [],
      "source": [
        "# minst dataset (60,000 train images, 10,000 test images)"
      ]
    },
    {
      "cell_type": "code",
      "execution_count": 1,
      "metadata": {
        "id": "ixuCMbA9FZO6"
      },
      "outputs": [],
      "source": [
        "import torch\n",
        "import torch.nn as nn\n",
        "import torch.nn.functional as F"
<<<<<<< HEAD
      ]
=======
      ],
      "metadata": {
        "id": "ixuCMbA9FZO6"
      },
      "execution_count": null,
      "outputs": []
>>>>>>> 46a820aedeac2956412d0d6c48a5edbb169522a1
    },
    {
      "cell_type": "code",
      "execution_count": 2,
      "metadata": {
        "id": "9q66eqpVFAzP"
      },
      "outputs": [
        {
          "name": "stderr",
          "output_type": "stream",
          "text": [
            "c:\\Users\\manch\\AppData\\Local\\Programs\\Python\\Python39\\lib\\site-packages\\tqdm\\auto.py:21: TqdmWarning: IProgress not found. Please update jupyter and ipywidgets. See https://ipywidgets.readthedocs.io/en/stable/user_install.html\n",
            "  from .autonotebook import tqdm as notebook_tqdm\n"
          ]
        }
      ],
      "source": [
        "from torch.utils.data.dataloader import DataLoader\n",
        "from torchvision import datasets, transforms\n",
        "from torchvision.utils import make_grid"
<<<<<<< HEAD
      ]
=======
      ],
      "metadata": {
        "id": "9q66eqpVFAzP"
      },
      "execution_count": null,
      "outputs": []
>>>>>>> 46a820aedeac2956412d0d6c48a5edbb169522a1
    },
    {
      "cell_type": "code",
      "execution_count": 3,
      "metadata": {
        "id": "Ev3j8AjEFYrG"
      },
      "outputs": [],
      "source": [
        "import numpy as np\n",
        "import pandas as pd\n",
        "from sklearn.metrics import confusion_matrix\n",
        "import matplotlib.pyplot as plt\n",
        "%matplotlib inline"
<<<<<<< HEAD
      ]
=======
      ],
      "metadata": {
        "id": "Ev3j8AjEFYrG"
      },
      "execution_count": null,
      "outputs": []
>>>>>>> 46a820aedeac2956412d0d6c48a5edbb169522a1
    },
    {
      "cell_type": "code",
      "execution_count": 4,
      "metadata": {
        "id": "8FfiJwCcFz9S"
      },
<<<<<<< HEAD
      "outputs": [],
      "source": [
        "# Convert mnist image files into a tensor of 4-Dimensions\n",
        "transform = transforms.ToTensor()"
      ]
=======
      "execution_count": null,
      "outputs": []
>>>>>>> 46a820aedeac2956412d0d6c48a5edbb169522a1
    },
    {
      "cell_type": "code",
      "execution_count": 7,
      "metadata": {
        "colab": {
          "base_uri": "https://localhost:8080/"
        },
        "id": "uNONMgZzGRiS",
        "outputId": "6be1e84b-01ba-4397-87a0-1eeebba63aba"
      },
<<<<<<< HEAD
=======
      "execution_count": null,
>>>>>>> 46a820aedeac2956412d0d6c48a5edbb169522a1
      "outputs": [
        {
          "name": "stdout",
          "output_type": "stream",
          "text": [
            "Downloading http://yann.lecun.com/exdb/mnist/train-images-idx3-ubyte.gz\n",
            "Downloading http://yann.lecun.com/exdb/mnist/train-images-idx3-ubyte.gz to /cnn_data/MNIST/raw/train-images-idx3-ubyte.gz\n"
          ]
        },
        {
          "name": "stderr",
          "output_type": "stream",
          "text": [
<<<<<<< HEAD
            "100%|██████████| 9912422/9912422 [00:00<00:00, 332589725.65it/s]"
          ]
        },
        {
          "name": "stdout",
          "output_type": "stream",
          "text": [
            "Extracting /cnn_data/MNIST/raw/train-images-idx3-ubyte.gz to /cnn_data/MNIST/raw\n"
          ]
        },
        {
          "name": "stderr",
          "output_type": "stream",
          "text": [
            "\n"
=======
            "100%|██████████| 9912422/9912422 [00:00<00:00, 115947043.84it/s]\n"
>>>>>>> 46a820aedeac2956412d0d6c48a5edbb169522a1
          ]
        },
        {
          "name": "stdout",
          "output_type": "stream",
          "text": [
            "Extracting /cnn_data/MNIST/raw/train-images-idx3-ubyte.gz to /cnn_data/MNIST/raw\n",
            "\n",
            "Downloading http://yann.lecun.com/exdb/mnist/train-labels-idx1-ubyte.gz\n",
            "Downloading http://yann.lecun.com/exdb/mnist/train-labels-idx1-ubyte.gz to /cnn_data/MNIST/raw/train-labels-idx1-ubyte.gz\n"
          ]
        },
        {
          "name": "stderr",
          "output_type": "stream",
          "text": [
            "100%|██████████| 28881/28881 [00:00<00:00, 29430440.68it/s]\n"
          ]
        },
        {
          "name": "stdout",
          "output_type": "stream",
          "text": [
            "Extracting /cnn_data/MNIST/raw/train-labels-idx1-ubyte.gz to /cnn_data/MNIST/raw\n",
            "\n",
            "Downloading http://yann.lecun.com/exdb/mnist/t10k-images-idx3-ubyte.gz\n",
            "Downloading http://yann.lecun.com/exdb/mnist/t10k-images-idx3-ubyte.gz to /cnn_data/MNIST/raw/t10k-images-idx3-ubyte.gz\n"
          ]
        },
        {
          "name": "stderr",
          "output_type": "stream",
          "text": [
<<<<<<< HEAD
            "100%|██████████| 1648877/1648877 [00:00<00:00, 182814998.59it/s]"
          ]
        },
        {
          "name": "stdout",
          "output_type": "stream",
          "text": [
            "Extracting /cnn_data/MNIST/raw/t10k-images-idx3-ubyte.gz to /cnn_data/MNIST/raw\n"
          ]
        },
        {
          "name": "stderr",
          "output_type": "stream",
          "text": [
            "\n"
=======
            "100%|██████████| 1648877/1648877 [00:00<00:00, 31462899.48it/s]\n"
>>>>>>> 46a820aedeac2956412d0d6c48a5edbb169522a1
          ]
        },
        {
          "name": "stdout",
          "output_type": "stream",
          "text": [
            "Extracting /cnn_data/MNIST/raw/t10k-images-idx3-ubyte.gz to /cnn_data/MNIST/raw\n",
            "\n",
            "Downloading http://yann.lecun.com/exdb/mnist/t10k-labels-idx1-ubyte.gz\n",
            "Downloading http://yann.lecun.com/exdb/mnist/t10k-labels-idx1-ubyte.gz to /cnn_data/MNIST/raw/t10k-labels-idx1-ubyte.gz\n"
          ]
        },
        {
          "name": "stderr",
          "output_type": "stream",
          "text": [
            "100%|██████████| 4542/4542 [00:00<00:00, 5632918.03it/s]\n"
          ]
        },
        {
          "name": "stdout",
          "output_type": "stream",
          "text": [
            "Extracting /cnn_data/MNIST/raw/t10k-labels-idx1-ubyte.gz to /cnn_data/MNIST/raw\n",
            "\n"
          ]
        }
      ],
      "source": [
        "# Train data\n",
        "train_data = datasets.MNIST(root='/cnn_data', train=True, download=True, transform=transform)"
      ]
    },
    {
      "cell_type": "code",
      "execution_count": 8,
      "metadata": {
        "id": "lGYRmq6jGtbv"
      },
<<<<<<< HEAD
      "outputs": [],
      "source": [
        "# Test data\n",
        "test_data = datasets.MNIST(root='/cnn_data', train=False, download=True, transform=transform)"
      ]
=======
      "execution_count": null,
      "outputs": []
>>>>>>> 46a820aedeac2956412d0d6c48a5edbb169522a1
    },
    {
      "cell_type": "code",
      "execution_count": 9,
      "metadata": {
        "colab": {
          "base_uri": "https://localhost:8080/"
        },
        "id": "jAFTs5VeHLVm",
        "outputId": "757110fc-2055-475f-83d9-0ca34f792442"
      },
<<<<<<< HEAD
=======
      "execution_count": null,
>>>>>>> 46a820aedeac2956412d0d6c48a5edbb169522a1
      "outputs": [
        {
          "data": {
            "text/plain": [
              "Dataset MNIST\n",
              "    Number of datapoints: 60000\n",
              "    Root location: /cnn_data\n",
              "    Split: Train\n",
              "    StandardTransform\n",
              "Transform: ToTensor()"
            ]
          },
          "execution_count": 9,
          "metadata": {},
<<<<<<< HEAD
          "output_type": "execute_result"
=======
          "execution_count": 8
>>>>>>> 46a820aedeac2956412d0d6c48a5edbb169522a1
        }
      ],
      "source": [
        "train_data"
      ]
    },
    {
      "cell_type": "code",
      "execution_count": 10,
      "metadata": {
        "colab": {
          "base_uri": "https://localhost:8080/"
        },
        "id": "t9bo-2gFHQQe",
        "outputId": "19af5d4c-1394-4336-fdfa-8173efd15cc2"
      },
<<<<<<< HEAD
=======
      "execution_count": null,
>>>>>>> 46a820aedeac2956412d0d6c48a5edbb169522a1
      "outputs": [
        {
          "data": {
            "text/plain": [
              "Dataset MNIST\n",
              "    Number of datapoints: 10000\n",
              "    Root location: /cnn_data\n",
              "    Split: Test\n",
              "    StandardTransform\n",
              "Transform: ToTensor()"
            ]
          },
          "execution_count": 10,
          "metadata": {},
<<<<<<< HEAD
          "output_type": "execute_result"
=======
          "execution_count": 9
>>>>>>> 46a820aedeac2956412d0d6c48a5edbb169522a1
        }
      ],
      "source": [
        "test_data"
      ]
    },
    {
      "cell_type": "code",
      "execution_count": 11,
      "metadata": {
        "colab": {
          "base_uri": "https://localhost:8080/",
          "height": 36
        },
        "id": "8yfbG758HTPh",
        "outputId": "24fdc6f4-083e-45ca-ab35-67006a0a6d4f"
      },
<<<<<<< HEAD
=======
      "execution_count": null,
>>>>>>> 46a820aedeac2956412d0d6c48a5edbb169522a1
      "outputs": [
        {
          "data": {
            "application/vnd.google.colaboratory.intrinsic+json": {
              "type": "string"
            },
            "text/plain": [
              "'/content'"
            ]
          },
          "execution_count": 11,
          "metadata": {},
<<<<<<< HEAD
          "output_type": "execute_result"
=======
          "execution_count": 10
>>>>>>> 46a820aedeac2956412d0d6c48a5edbb169522a1
        }
      ],
      "source": [
        "pwd"
      ]
    },
    {
      "cell_type": "code",
      "execution_count": 12,
      "metadata": {
        "colab": {
          "base_uri": "https://localhost:8080/"
        },
        "id": "C1xIFL_sHXc2",
        "outputId": "4ca3baa6-f0b0-4308-bd9e-6242d366feac"
      },
<<<<<<< HEAD
=======
      "execution_count": null,
>>>>>>> 46a820aedeac2956412d0d6c48a5edbb169522a1
      "outputs": [
        {
          "name": "stdout",
          "output_type": "stream",
          "text": [
            "\u001b[0m\u001b[01;34msample_data\u001b[0m/\n"
          ]
        }
      ],
      "source": [
        "ls"
      ]
    },
    {
      "cell_type": "code",
      "execution_count": 13,
      "metadata": {
        "colab": {
          "base_uri": "https://localhost:8080/"
        },
        "id": "X8EJSlEXHYF6",
        "outputId": "82230bea-a957-4f5b-c40d-4285d4a15d12"
      },
<<<<<<< HEAD
=======
      "execution_count": null,
>>>>>>> 46a820aedeac2956412d0d6c48a5edbb169522a1
      "outputs": [
        {
          "name": "stdout",
          "output_type": "stream",
          "text": [
            "/\n"
          ]
        }
      ],
      "source": [
        "cd ../"
      ]
    },
    {
      "cell_type": "code",
      "execution_count": 14,
      "metadata": {
        "colab": {
          "base_uri": "https://localhost:8080/",
          "height": 36
        },
        "id": "vX6pY4ygHcxI",
        "outputId": "5f3549fa-26d2-4acd-c4ec-5ac443aabc69"
      },
<<<<<<< HEAD
=======
      "execution_count": null,
>>>>>>> 46a820aedeac2956412d0d6c48a5edbb169522a1
      "outputs": [
        {
          "data": {
            "application/vnd.google.colaboratory.intrinsic+json": {
              "type": "string"
            },
            "text/plain": [
              "'/'"
            ]
          },
          "execution_count": 14,
          "metadata": {},
<<<<<<< HEAD
          "output_type": "execute_result"
=======
          "execution_count": 13
>>>>>>> 46a820aedeac2956412d0d6c48a5edbb169522a1
        }
      ],
      "source": [
        "pwd"
      ]
    },
    {
      "cell_type": "code",
      "execution_count": 15,
      "metadata": {
        "colab": {
          "base_uri": "https://localhost:8080/"
        },
        "id": "8uj7yEUZHf0k",
        "outputId": "c829bde9-763a-4913-d68c-034c2e09af52"
      },
<<<<<<< HEAD
=======
      "execution_count": null,
>>>>>>> 46a820aedeac2956412d0d6c48a5edbb169522a1
      "outputs": [
        {
          "name": "stdout",
          "output_type": "stream",
          "text": [
            "\u001b[0m\u001b[01;36mbin\u001b[0m@       cuda-keyring_1.0-1_all.deb  \u001b[01;34mhome\u001b[0m/    \u001b[01;36mlib64\u001b[0m@   NGC-DL-CONTAINER-LICENSE  \u001b[01;34mrun\u001b[0m/   \u001b[30;42mtmp\u001b[0m/\n",
            "\u001b[01;34mboot\u001b[0m/      \u001b[01;34mdatalab\u001b[0m/                    \u001b[01;34mkaggle\u001b[0m/  \u001b[01;36mlibx32\u001b[0m@  \u001b[01;34mopt\u001b[0m/                      \u001b[01;36msbin\u001b[0m@  \u001b[01;34mtools\u001b[0m/\n",
            "\u001b[01;34mcnn_data\u001b[0m/  \u001b[01;34mdev\u001b[0m/                        \u001b[01;36mlib\u001b[0m@     \u001b[01;34mmedia\u001b[0m/   \u001b[01;34mproc\u001b[0m/                     \u001b[01;34msrv\u001b[0m/   \u001b[01;34musr\u001b[0m/\n",
            "\u001b[01;34mcontent\u001b[0m/   \u001b[01;34metc\u001b[0m/                        \u001b[01;36mlib32\u001b[0m@   \u001b[01;34mmnt\u001b[0m/     \u001b[01;34mroot\u001b[0m/                     \u001b[01;34msys\u001b[0m/   \u001b[01;34mvar\u001b[0m/\n"
          ]
        }
      ],
      "source": [
        "ls"
      ]
    },
    {
      "cell_type": "code",
      "execution_count": 16,
      "metadata": {
        "colab": {
          "base_uri": "https://localhost:8080/"
        },
        "id": "qjr0928hHg2n",
        "outputId": "6ac21e0d-7d67-4a29-be11-ee4dd2939fe2"
      },
<<<<<<< HEAD
=======
      "execution_count": null,
>>>>>>> 46a820aedeac2956412d0d6c48a5edbb169522a1
      "outputs": [
        {
          "name": "stdout",
          "output_type": "stream",
          "text": [
            "/cnn_data\n"
          ]
        }
      ],
      "source": [
        "cd cnn_data"
      ]
    },
    {
      "cell_type": "code",
      "execution_count": 17,
      "metadata": {
        "colab": {
          "base_uri": "https://localhost:8080/"
        },
        "id": "ysJMGBRNHmoa",
        "outputId": "8a47a56c-ec1b-404f-e653-cfd4a6ece45a"
      },
<<<<<<< HEAD
=======
      "execution_count": null,
>>>>>>> 46a820aedeac2956412d0d6c48a5edbb169522a1
      "outputs": [
        {
          "name": "stdout",
          "output_type": "stream",
          "text": [
            "\u001b[0m\u001b[01;34mMNIST\u001b[0m/\n"
          ]
        }
      ],
      "source": [
        "ls"
      ]
    },
    {
      "cell_type": "code",
      "execution_count": 18,
      "metadata": {
        "colab": {
          "base_uri": "https://localhost:8080/"
        },
        "id": "TzOh3eJAHnuM",
        "outputId": "d7b2329b-14bc-4c1b-d716-04e5f3a17165"
      },
<<<<<<< HEAD
=======
      "execution_count": null,
>>>>>>> 46a820aedeac2956412d0d6c48a5edbb169522a1
      "outputs": [
        {
          "name": "stdout",
          "output_type": "stream",
          "text": [
            "/\n"
          ]
        }
      ],
      "source": [
        "cd ../"
      ]
    },
    {
      "cell_type": "code",
      "execution_count": 19,
      "metadata": {
        "colab": {
          "base_uri": "https://localhost:8080/"
        },
        "id": "H374tcTHHsr7",
        "outputId": "abf8aecc-2904-4a24-acba-cf96711cf74f"
      },
<<<<<<< HEAD
=======
      "execution_count": null,
>>>>>>> 46a820aedeac2956412d0d6c48a5edbb169522a1
      "outputs": [
        {
          "name": "stdout",
          "output_type": "stream",
          "text": [
            "\u001b[0m\u001b[01;36mbin\u001b[0m@       cuda-keyring_1.0-1_all.deb  \u001b[01;34mhome\u001b[0m/    \u001b[01;36mlib64\u001b[0m@   NGC-DL-CONTAINER-LICENSE  \u001b[01;34mrun\u001b[0m/   \u001b[30;42mtmp\u001b[0m/\n",
            "\u001b[01;34mboot\u001b[0m/      \u001b[01;34mdatalab\u001b[0m/                    \u001b[01;34mkaggle\u001b[0m/  \u001b[01;36mlibx32\u001b[0m@  \u001b[01;34mopt\u001b[0m/                      \u001b[01;36msbin\u001b[0m@  \u001b[01;34mtools\u001b[0m/\n",
            "\u001b[01;34mcnn_data\u001b[0m/  \u001b[01;34mdev\u001b[0m/                        \u001b[01;36mlib\u001b[0m@     \u001b[01;34mmedia\u001b[0m/   \u001b[01;34mproc\u001b[0m/                     \u001b[01;34msrv\u001b[0m/   \u001b[01;34musr\u001b[0m/\n",
            "\u001b[01;34mcontent\u001b[0m/   \u001b[01;34metc\u001b[0m/                        \u001b[01;36mlib32\u001b[0m@   \u001b[01;34mmnt\u001b[0m/     \u001b[01;34mroot\u001b[0m/                     \u001b[01;34msys\u001b[0m/   \u001b[01;34mvar\u001b[0m/\n"
          ]
        }
      ],
      "source": [
        "ls"
      ]
    },
    {
      "cell_type": "code",
      "execution_count": 20,
      "metadata": {
        "colab": {
          "base_uri": "https://localhost:8080/"
        },
        "id": "H97xtE8_HtTK",
        "outputId": "f88a3311-c410-4b14-e9c0-d0b2c3ccdd06"
      },
<<<<<<< HEAD
=======
      "execution_count": null,
>>>>>>> 46a820aedeac2956412d0d6c48a5edbb169522a1
      "outputs": [
        {
          "name": "stdout",
          "output_type": "stream",
          "text": [
            "/content\n"
          ]
        }
      ],
      "source": [
        "cd content"
      ]
    },
    {
      "cell_type": "code",
      "execution_count": 21,
      "metadata": {
        "id": "Ta5RJp75HuwG"
      },
      "outputs": [],
      "source": [
        "# Create a batch size for images\n",
        "train_loader = DataLoader(train_data, batch_size=10, shuffle=True)\n",
<<<<<<< HEAD
        "test_loader = DataLoader(train_data, batch_size=10, shuffle=False)"
      ]
=======
        "test_loader = DataLoader(test_data, batch_size=10, shuffle=False)"
      ],
      "metadata": {
        "id": "Ta5RJp75HuwG"
      },
      "execution_count": null,
      "outputs": []
>>>>>>> 46a820aedeac2956412d0d6c48a5edbb169522a1
    },
    {
      "cell_type": "code",
      "execution_count": 22,
      "metadata": {
        "id": "FwqKU9K1ImcR"
      },
      "outputs": [],
      "source": [
        "# Define our CNN Model\n",
        "# Describe convolutional layer and what its doing (2 cnn layers)\n",
        "conv1 = nn.Conv2d(1, 12, 3, 1) # 1 feature in, 12 features out, kernel size is 3, stride length(brush size(1) each time)\n",
        "conv2 = nn.Conv2d(12, 22, 3, 1)# 12 features in, 22 features out, kernel size is 3, stride length(brush size(1) each time)"
<<<<<<< HEAD
      ]
=======
      ],
      "metadata": {
        "id": "FwqKU9K1ImcR"
      },
      "execution_count": null,
      "outputs": []
>>>>>>> 46a820aedeac2956412d0d6c48a5edbb169522a1
    },
    {
      "cell_type": "code",
      "execution_count": 23,
      "metadata": {
        "id": "LB4UcIkdKrY7"
      },
      "outputs": [],
      "source": [
        "# Grab 1 MNIST record or image\n",
        "for i, (X_Train, y_train) in enumerate(train_data):\n",
        "  break"
<<<<<<< HEAD
      ]
=======
      ],
      "metadata": {
        "id": "LB4UcIkdKrY7"
      },
      "execution_count": null,
      "outputs": []
>>>>>>> 46a820aedeac2956412d0d6c48a5edbb169522a1
    },
    {
      "cell_type": "code",
      "execution_count": 24,
      "metadata": {
        "colab": {
          "base_uri": "https://localhost:8080/"
        },
        "id": "JkSviBLiK-lf",
        "outputId": "de825cfc-f4cf-4f2b-df98-a30cc0469d85"
      },
<<<<<<< HEAD
=======
      "execution_count": null,
>>>>>>> 46a820aedeac2956412d0d6c48a5edbb169522a1
      "outputs": [
        {
          "data": {
            "text/plain": [
              "torch.Size([1, 28, 28])"
            ]
          },
          "execution_count": 24,
          "metadata": {},
<<<<<<< HEAD
          "output_type": "execute_result"
=======
          "execution_count": 23
>>>>>>> 46a820aedeac2956412d0d6c48a5edbb169522a1
        }
      ],
      "source": [
        "X_Train.shape"
      ]
    },
    {
      "cell_type": "code",
      "execution_count": 25,
      "metadata": {
        "id": "pmpOVYo9LDra"
      },
<<<<<<< HEAD
      "outputs": [],
      "source": [
        "# convert to 4d\n",
        "x = X_Train.view(1,1,28,28) # 1 batch of 1 image of 28*28 size"
      ]
=======
      "execution_count": null,
      "outputs": []
>>>>>>> 46a820aedeac2956412d0d6c48a5edbb169522a1
    },
    {
      "cell_type": "code",
      "execution_count": 26,
      "metadata": {
        "id": "MnMuO0gbLXvg"
      },
<<<<<<< HEAD
      "outputs": [],
      "source": [
        "# Perform our first convolution\n",
        "x = F.relu(conv1(x)) # rectified Linear unit for our activation function"
      ]
=======
      "execution_count": null,
      "outputs": []
>>>>>>> 46a820aedeac2956412d0d6c48a5edbb169522a1
    },
    {
      "cell_type": "code",
      "execution_count": 27,
      "metadata": {
        "colab": {
          "base_uri": "https://localhost:8080/"
        },
        "id": "ZJa_f68rL1MN",
        "outputId": "9b75c33f-2e5c-4582-8cc7-40dc5716f76d"
      },
<<<<<<< HEAD
=======
      "execution_count": null,
>>>>>>> 46a820aedeac2956412d0d6c48a5edbb169522a1
      "outputs": [
        {
          "data": {
            "text/plain": [
              "torch.Size([1, 12, 26, 26])"
            ]
          },
          "execution_count": 27,
          "metadata": {},
<<<<<<< HEAD
          "output_type": "execute_result"
=======
          "execution_count": 26
>>>>>>> 46a820aedeac2956412d0d6c48a5edbb169522a1
        }
      ],
      "source": [
        "# 1 single image, 12 is the filters we asked for, 26*26\n",
        "x.shape"
      ]
    },
    {
      "cell_type": "code",
      "execution_count": 28,
      "metadata": {
        "id": "Bytm6l77L5sI"
      },
<<<<<<< HEAD
      "outputs": [],
      "source": [
        "# pass through the pooling(shrinking the imformation) layer\n",
        "x = F.max_pool2d(x,2,2) # kernel size is 2 and stride size is 2"
      ]
=======
      "execution_count": null,
      "outputs": []
>>>>>>> 46a820aedeac2956412d0d6c48a5edbb169522a1
    },
    {
      "cell_type": "code",
      "execution_count": 29,
      "metadata": {
        "colab": {
          "base_uri": "https://localhost:8080/"
        },
        "id": "NTuJ5Q_dM7Dk",
        "outputId": "54158af8-f802-49d9-bfa8-dd396b1958ae"
      },
<<<<<<< HEAD
=======
      "execution_count": null,
>>>>>>> 46a820aedeac2956412d0d6c48a5edbb169522a1
      "outputs": [
        {
          "data": {
            "text/plain": [
              "torch.Size([1, 12, 13, 13])"
            ]
          },
          "execution_count": 29,
          "metadata": {},
<<<<<<< HEAD
          "output_type": "execute_result"
=======
          "execution_count": 28
>>>>>>> 46a820aedeac2956412d0d6c48a5edbb169522a1
        }
      ],
      "source": [
        "x.shape # 26 / 2 = 13"
      ]
    },
    {
      "cell_type": "code",
      "execution_count": 30,
      "metadata": {
        "id": "oIy0JmfNNHC9"
      },
<<<<<<< HEAD
      "outputs": [],
      "source": [
        "# Do our second convolutional layer\n",
        "x = F.relu(conv2(x))"
      ]
=======
      "execution_count": null,
      "outputs": []
>>>>>>> 46a820aedeac2956412d0d6c48a5edbb169522a1
    },
    {
      "cell_type": "code",
      "execution_count": 31,
      "metadata": {
        "colab": {
          "base_uri": "https://localhost:8080/"
        },
        "id": "-cSpINRUNni2",
        "outputId": "0965581f-e8f6-4755-dceb-e7b3ae799880"
      },
<<<<<<< HEAD
=======
      "execution_count": null,
>>>>>>> 46a820aedeac2956412d0d6c48a5edbb169522a1
      "outputs": [
        {
          "data": {
            "text/plain": [
              "torch.Size([1, 22, 11, 11])"
            ]
          },
          "execution_count": 31,
          "metadata": {},
<<<<<<< HEAD
          "output_type": "execute_result"
=======
          "execution_count": 30
>>>>>>> 46a820aedeac2956412d0d6c48a5edbb169522a1
        }
      ],
      "source": [
        "x.shape # we didn't set the padding, so we lose 2 pixels around the outside of the image after the convolution"
      ]
    },
    {
      "cell_type": "code",
      "execution_count": 32,
      "metadata": {
        "id": "MSrFpnY-NpHl"
      },
<<<<<<< HEAD
      "outputs": [],
      "source": [
        "# Do our second pooling layer\n",
        "x = F.max_pool2d(x,2,2)"
      ]
=======
      "execution_count": null,
      "outputs": []
>>>>>>> 46a820aedeac2956412d0d6c48a5edbb169522a1
    },
    {
      "cell_type": "code",
      "execution_count": 33,
      "metadata": {
        "colab": {
          "base_uri": "https://localhost:8080/"
        },
        "id": "z4zRyiATORF4",
        "outputId": "a1a6e985-92ad-4c9a-8026-25213c6328aa"
      },
<<<<<<< HEAD
=======
      "execution_count": null,
>>>>>>> 46a820aedeac2956412d0d6c48a5edbb169522a1
      "outputs": [
        {
          "data": {
            "text/plain": [
              "torch.Size([1, 22, 5, 5])"
            ]
          },
          "execution_count": 33,
          "metadata": {},
<<<<<<< HEAD
          "output_type": "execute_result"
=======
          "execution_count": 32
>>>>>>> 46a820aedeac2956412d0d6c48a5edbb169522a1
        }
      ],
      "source": [
        "x.shape # 11 / 2 = 5.5"
      ]
    },
    {
      "cell_type": "code",
      "execution_count": 34,
      "metadata": {
        "colab": {
          "base_uri": "https://localhost:8080/"
        },
        "id": "3qzNWZasOV1v",
        "outputId": "c2593f86-fb9e-4805-dcaf-9b757989d3dd"
      },
<<<<<<< HEAD
=======
      "execution_count": null,
>>>>>>> 46a820aedeac2956412d0d6c48a5edbb169522a1
      "outputs": [
        {
          "data": {
            "text/plain": [
              "5.5"
            ]
          },
          "execution_count": 34,
          "metadata": {},
<<<<<<< HEAD
          "output_type": "execute_result"
=======
          "execution_count": 33
>>>>>>> 46a820aedeac2956412d0d6c48a5edbb169522a1
        }
      ],
      "source": [
        "(((28-2) / 2) -2) / 2"
      ]
    },
    {
      "cell_type": "code",
      "execution_count": 35,
      "metadata": {
        "colab": {
          "base_uri": "https://localhost:8080/"
        },
        "id": "ep2rogtiQbYB",
        "outputId": "76bed880-65e2-4ab8-d58d-af82fc885b55"
      },
<<<<<<< HEAD
=======
      "execution_count": null,
>>>>>>> 46a820aedeac2956412d0d6c48a5edbb169522a1
      "outputs": [
        {
          "data": {
            "text/plain": [
              "550"
            ]
          },
          "execution_count": 35,
          "metadata": {},
<<<<<<< HEAD
          "output_type": "execute_result"
=======
          "execution_count": 34
>>>>>>> 46a820aedeac2956412d0d6c48a5edbb169522a1
        }
      ],
      "source": [
        "22*5*5"
      ]
    },
    {
      "cell_type": "code",
      "execution_count": 5,
      "metadata": {
        "id": "kATFKgbuOiTx"
      },
      "outputs": [],
      "source": [
        "# Model Class\n",
        "class Model(nn.Module):\n",
        "  def __init__(self):\n",
        "    super().__init__()\n",
        "    self.conv1 = nn.Conv2d(1, 12, 3, 1)\n",
        "    self.conv2 = nn.Conv2d(12, 22, 3, 1)\n",
        "    # Fully connected layer (torch.Size([1, 22, 5, 5])) here, 22*5*5 = 550\n",
        "    self.fc1 = nn.Linear(550, 320)\n",
        "    self.fc2 = nn.Linear(320, 160)\n",
        "    self.fc3 = nn.Linear(160, 80)\n",
        "    self.fc4 = nn.Linear(80, 40)\n",
        "    self.fc5 = nn.Linear(40, 20)\n",
        "    self.fc6 = nn.Linear(20, 10)\n",
        "\n",
        "  def forward(self, X):\n",
        "    X = F.relu(self.conv1(X))\n",
        "    X = F.max_pool2d(X,2,2) # 2*2 kernal and stride length of 2\n",
        "    # Second Pass\n",
        "    X = F.relu(self.conv2(X))\n",
        "    X = F.max_pool2d(X,2,2) # 2*2 kernal and stride length of 2\n",
        "\n",
        "    # Re-View to flatten it out\n",
        "    X = X.view(-1, 550) # -1 so that we can vary the batch size\n",
        "\n",
        "    # Fully Connected layers\n",
        "    X = F.relu(self.fc1(X))\n",
        "    X = F.relu(self.fc2(X))\n",
        "    X = F.relu(self.fc3(X))\n",
        "    X = F.relu(self.fc4(X))\n",
        "    X = F.relu(self.fc5(X))\n",
        "    X = self.fc6(X)\n",
        "    return F.log_softmax(X, dim=1)"
<<<<<<< HEAD
      ]
    },
    {
      "cell_type": "code",
      "execution_count": 37,
=======
      ],
      "metadata": {
        "id": "kATFKgbuOiTx"
      },
      "execution_count": null,
      "outputs": []
    },
    {
      "cell_type": "code",
      "source": [
        "torch.manual_seed(82)"
      ],
>>>>>>> 46a820aedeac2956412d0d6c48a5edbb169522a1
      "metadata": {
        "colab": {
          "base_uri": "https://localhost:8080/"
        },
        "id": "hj86ykSbTN1T",
        "outputId": "f2077618-8d1f-407f-c448-d6ac5c4c4b79"
      },
<<<<<<< HEAD
=======
      "execution_count": null,
>>>>>>> 46a820aedeac2956412d0d6c48a5edbb169522a1
      "outputs": [
        {
          "data": {
            "text/plain": [
              "<torch._C.Generator at 0x78b3ac12d890>"
            ]
          },
          "execution_count": 37,
          "metadata": {},
<<<<<<< HEAD
          "output_type": "execute_result"
=======
          "execution_count": 36
>>>>>>> 46a820aedeac2956412d0d6c48a5edbb169522a1
        }
      ],
      "source": [
        "torch.manual_seed(50)"
      ]
    },
    {
      "cell_type": "code",
      "execution_count": 6,
      "metadata": {
        "colab": {
          "base_uri": "https://localhost:8080/"
        },
        "id": "GvtsBsy5POj1",
        "outputId": "1e77d8d8-e3eb-4f68-fda2-db47b886769c"
      },
<<<<<<< HEAD
=======
      "execution_count": null,
>>>>>>> 46a820aedeac2956412d0d6c48a5edbb169522a1
      "outputs": [
        {
          "data": {
            "text/plain": [
              "Model(\n",
              "  (conv1): Conv2d(1, 12, kernel_size=(3, 3), stride=(1, 1))\n",
              "  (conv2): Conv2d(12, 22, kernel_size=(3, 3), stride=(1, 1))\n",
              "  (fc1): Linear(in_features=550, out_features=320, bias=True)\n",
              "  (fc2): Linear(in_features=320, out_features=160, bias=True)\n",
              "  (fc3): Linear(in_features=160, out_features=80, bias=True)\n",
              "  (fc4): Linear(in_features=80, out_features=40, bias=True)\n",
              "  (fc5): Linear(in_features=40, out_features=20, bias=True)\n",
              "  (fc6): Linear(in_features=20, out_features=10, bias=True)\n",
              ")"
            ]
          },
          "execution_count": 6,
          "metadata": {},
<<<<<<< HEAD
          "output_type": "execute_result"
=======
          "execution_count": 37
>>>>>>> 46a820aedeac2956412d0d6c48a5edbb169522a1
        }
      ],
      "source": [
        "# Create an Instance of our model\n",
        "model = Model()\n",
        "model"
      ]
    },
    {
      "cell_type": "code",
      "execution_count": 39,
      "metadata": {
        "id": "B9qtvGucTcXy"
      },
      "outputs": [],
      "source": [
        "# Set the criterion of model to measure the error (Loss)\n",
        "# how far off the predictions are from the data\n",
        "loss_fn = nn.CrossEntropyLoss()\n",
        "# Choose Adam Optimizer, lr = learning rate(if error doesn't go down after some epochs, reduce learning rate)\n",
        "optimizer = torch.optim.Adam(model.parameters(), lr=0.001)\n",
        "# one epoch means, one forward pass through the neural network"
<<<<<<< HEAD
      ]
=======
      ],
      "metadata": {
        "id": "B9qtvGucTcXy"
      },
      "execution_count": null,
      "outputs": []
>>>>>>> 46a820aedeac2956412d0d6c48a5edbb169522a1
    },
    {
      "cell_type": "code",
      "execution_count": 40,
      "metadata": {
        "colab": {
          "base_uri": "https://localhost:8080/"
        },
        "id": "nM4BRAZ9UM-Z",
        "outputId": "8039ec38-49df-4fb0-8454-5c6275830073"
      },
<<<<<<< HEAD
=======
      "execution_count": null,
>>>>>>> 46a820aedeac2956412d0d6c48a5edbb169522a1
      "outputs": [
        {
          "name": "stdout",
          "output_type": "stream",
          "text": [
            "<class 'torch.nn.parameter.Parameter'> torch.Size([12, 1, 3, 3])\n",
            "<class 'torch.nn.parameter.Parameter'> torch.Size([12])\n",
            "<class 'torch.nn.parameter.Parameter'> torch.Size([22, 12, 3, 3])\n",
            "<class 'torch.nn.parameter.Parameter'> torch.Size([22])\n",
            "<class 'torch.nn.parameter.Parameter'> torch.Size([320, 550])\n",
            "<class 'torch.nn.parameter.Parameter'> torch.Size([320])\n",
            "<class 'torch.nn.parameter.Parameter'> torch.Size([160, 320])\n",
            "<class 'torch.nn.parameter.Parameter'> torch.Size([160])\n",
            "<class 'torch.nn.parameter.Parameter'> torch.Size([80, 160])\n",
            "<class 'torch.nn.parameter.Parameter'> torch.Size([80])\n",
            "<class 'torch.nn.parameter.Parameter'> torch.Size([40, 80])\n",
            "<class 'torch.nn.parameter.Parameter'> torch.Size([40])\n",
            "<class 'torch.nn.parameter.Parameter'> torch.Size([20, 40])\n",
            "<class 'torch.nn.parameter.Parameter'> torch.Size([20])\n",
            "<class 'torch.nn.parameter.Parameter'> torch.Size([10, 20])\n",
            "<class 'torch.nn.parameter.Parameter'> torch.Size([10])\n"
          ]
        }
      ],
      "source": [
        "for param in model.parameters():\n",
        "    print(type(param), param.size())"
      ]
    },
    {
      "cell_type": "code",
      "execution_count": 41,
      "metadata": {
        "colab": {
          "base_uri": "https://localhost:8080/"
        },
        "id": "waJ6bGghUUmS",
        "outputId": "b7735d7f-e083-4977-c8c4-de63b19b4d40"
      },
      "outputs": [
        {
          "name": "stdout",
          "output_type": "stream",
          "text": [
            "Epoch: 0 | Batch: 0 | Train loss: 0.0049 | Test loss: 0.0159\n",
            "Epoch: 0 | Batch: 600 | Train loss: 0.0049 | Test loss: 0.0072\n",
            "Epoch: 0 | Batch: 1200 | Train loss: 0.0049 | Test loss: 0.0149\n",
            "Epoch: 0 | Batch: 1800 | Train loss: 0.0049 | Test loss: 0.2867\n",
            "Epoch: 0 | Batch: 2400 | Train loss: 0.0049 | Test loss: 0.0762\n",
            "Epoch: 0 | Batch: 3000 | Train loss: 0.0049 | Test loss: 0.1108\n",
            "Epoch: 0 | Batch: 3600 | Train loss: 0.0049 | Test loss: 0.0440\n",
            "Epoch: 0 | Batch: 4200 | Train loss: 0.0049 | Test loss: 0.0053\n",
            "Epoch: 0 | Batch: 4800 | Train loss: 0.0049 | Test loss: 0.0289\n",
            "Epoch: 0 | Batch: 5400 | Train loss: 0.0049 | Test loss: 0.0140\n",
            "Epoch: 1 | Batch: 0 | Train loss: 0.1811 | Test loss: 0.0009\n",
            "Epoch: 1 | Batch: 600 | Train loss: 0.1811 | Test loss: 0.0079\n",
            "Epoch: 1 | Batch: 1200 | Train loss: 0.1811 | Test loss: 0.0044\n",
            "Epoch: 1 | Batch: 1800 | Train loss: 0.1811 | Test loss: 0.4149\n",
            "Epoch: 1 | Batch: 2400 | Train loss: 0.1811 | Test loss: 0.0714\n",
            "Epoch: 1 | Batch: 3000 | Train loss: 0.1811 | Test loss: 0.0184\n",
            "Epoch: 1 | Batch: 3600 | Train loss: 0.1811 | Test loss: 0.0036\n",
            "Epoch: 1 | Batch: 4200 | Train loss: 0.1811 | Test loss: 0.0466\n",
            "Epoch: 1 | Batch: 4800 | Train loss: 0.1811 | Test loss: 0.0035\n",
            "Epoch: 1 | Batch: 5400 | Train loss: 0.1811 | Test loss: 0.0037\n",
            "Epoch: 2 | Batch: 0 | Train loss: 0.0039 | Test loss: 0.0028\n",
            "Epoch: 2 | Batch: 600 | Train loss: 0.0039 | Test loss: 0.0058\n",
            "Epoch: 2 | Batch: 1200 | Train loss: 0.0039 | Test loss: 0.0025\n",
            "Epoch: 2 | Batch: 1800 | Train loss: 0.0039 | Test loss: 0.0623\n",
            "Epoch: 2 | Batch: 2400 | Train loss: 0.0039 | Test loss: 0.0341\n",
            "Epoch: 2 | Batch: 3000 | Train loss: 0.0039 | Test loss: 0.0093\n",
            "Epoch: 2 | Batch: 3600 | Train loss: 0.0039 | Test loss: 0.0073\n",
            "Epoch: 2 | Batch: 4200 | Train loss: 0.0039 | Test loss: 0.0745\n",
            "Epoch: 2 | Batch: 4800 | Train loss: 0.0039 | Test loss: 0.0033\n",
            "Epoch: 2 | Batch: 5400 | Train loss: 0.0039 | Test loss: 0.0017\n",
            "Epoch: 3 | Batch: 0 | Train loss: 0.3703 | Test loss: 0.0003\n",
            "Epoch: 3 | Batch: 600 | Train loss: 0.3703 | Test loss: 0.0002\n",
            "Epoch: 3 | Batch: 1200 | Train loss: 0.3703 | Test loss: 0.0063\n",
            "Epoch: 3 | Batch: 1800 | Train loss: 0.3703 | Test loss: 0.0072\n",
            "Epoch: 3 | Batch: 2400 | Train loss: 0.3703 | Test loss: 0.0026\n",
            "Epoch: 3 | Batch: 3000 | Train loss: 0.3703 | Test loss: 0.3463\n",
            "Epoch: 3 | Batch: 3600 | Train loss: 0.3703 | Test loss: 0.0032\n",
            "Epoch: 3 | Batch: 4200 | Train loss: 0.3703 | Test loss: 0.0085\n",
            "Epoch: 3 | Batch: 4800 | Train loss: 0.3703 | Test loss: 0.0050\n",
            "Epoch: 3 | Batch: 5400 | Train loss: 0.3703 | Test loss: 0.0002\n",
            "Epoch: 4 | Batch: 0 | Train loss: 0.0117 | Test loss: 0.0008\n",
            "Epoch: 4 | Batch: 600 | Train loss: 0.0117 | Test loss: 0.0023\n",
            "Epoch: 4 | Batch: 1200 | Train loss: 0.0117 | Test loss: 0.0579\n",
            "Epoch: 4 | Batch: 1800 | Train loss: 0.0117 | Test loss: 0.0260\n",
            "Epoch: 4 | Batch: 2400 | Train loss: 0.0117 | Test loss: 0.0129\n",
            "Epoch: 4 | Batch: 3000 | Train loss: 0.0117 | Test loss: 0.0072\n",
            "Epoch: 4 | Batch: 3600 | Train loss: 0.0117 | Test loss: 0.0100\n",
            "Epoch: 4 | Batch: 4200 | Train loss: 0.0117 | Test loss: 0.0484\n",
            "Epoch: 4 | Batch: 4800 | Train loss: 0.0117 | Test loss: 0.0018\n",
            "Epoch: 4 | Batch: 5400 | Train loss: 0.0117 | Test loss: 0.0075\n",
            "Training Took: 9.777775824069977 minutes!\n"
          ]
        }
      ],
      "source": [
        "import time\n",
        "start_time = time.time()\n",
        "\n",
        "# Create Variables To Track Things\n",
        "\n",
        "# for epoch in a range , lalalalala\n",
        "#  Train our model!\n",
        "# Epochs? (one run through all the training data in our network)\n",
        "epochs = 10\n",
        "train_losses = []\n",
        "test_losses = []\n",
        "train_correct = []\n",
        "test_correct = []\n",
        "\n",
        "for epoch in range(epochs):\n",
        "\n",
        "  trn_corr = 0\n",
        "  tst_corr = 0\n",
        "\n",
        "  # call model.train\n",
        "  model.train()\n",
        "\n",
        "  # we have batches here\n",
        "  # Train\n",
        "  for b,(X_train, y_train) in enumerate(train_loader):\n",
        "    b+=1 # start our batches at 1\n",
        "\n",
        "    #1. Do the forward pass\n",
        "    y_pred = model(X_train) # 2d input\n",
        "\n",
        "    #2. Calculate the loss\n",
        "    loss = loss_fn(y_pred, y_train)\n",
        "\n",
        "    predicted = torch.max(y_pred.data, 1)[1] # add up the number of coorect predictions\n",
        "    batch_corr = (predicted == y_train).sum() # how many we got correct from this batch\n",
        "    trn_corr += batch_corr # keep track as we go along in training\n",
        "\n",
        "    #3. Optimizer zero grad\n",
        "    optimizer.zero_grad()\n",
        "\n",
        "    #4. loss backward\n",
        "    loss.backward()\n",
        "\n",
        "    #5. optimizer step\n",
        "    optimizer.step()\n",
        "\n",
        "    train_losses.append(loss.detach().numpy())\n",
        "    train_correct.append(trn_corr)\n",
        "    ### Test time!\n",
        "    # call model.eval\n",
        "\n",
        "  model.eval()\n",
        "\n",
        "  with torch.inference_mode():\n",
        "\n",
        "    for b,(X_test, y_test) in enumerate(test_loader):\n",
        "      # Do the forward pass\n",
        "      test_pred = model(X_test)\n",
        "\n",
        "      # Calculate the loss\n",
        "      test_loss = loss_fn(test_pred, y_test)\n",
        "\n",
        "      predicted = torch.max(test_pred.data, 1)[1] # add up the number of coorect predictions\n",
        "      tst_corr += (predicted == y_test).sum() # keep track as we go along in training\n",
        "\n",
        "\n",
        "      test_losses.append(test_loss.detach().numpy())\n",
        "      test_correct.append(tst_corr)\n",
        "      if b%600 == 0:\n",
        "        # print out what's happening\n",
        "        print(f\"Epoch: {epoch} | Batch: {b} | Train loss: {loss:.4f} | Test loss: {test_loss:.4f}\")\n",
        "\n",
        "current_time = time.time()\n",
        "total = current_time - start_time\n",
        "print(f'Training Took: {total/60} minutes!')"
<<<<<<< HEAD
=======
      ],
      "metadata": {
        "colab": {
          "base_uri": "https://localhost:8080/"
        },
        "id": "waJ6bGghUUmS",
        "outputId": "f938e124-ab69-4dfc-8445-511ed257e18f"
      },
      "execution_count": null,
      "outputs": [
        {
          "output_type": "stream",
          "name": "stdout",
          "text": [
            "Epoch: 0 | Batch: 0 | Train loss: 0.0039 | Test loss: 0.0029\n",
            "Epoch: 0 | Batch: 600 | Train loss: 0.0039 | Test loss: 0.0275\n",
            "Epoch: 1 | Batch: 0 | Train loss: 0.0021 | Test loss: 0.0198\n",
            "Epoch: 1 | Batch: 600 | Train loss: 0.0021 | Test loss: 0.0143\n",
            "Epoch: 2 | Batch: 0 | Train loss: 0.0006 | Test loss: 0.0077\n",
            "Epoch: 2 | Batch: 600 | Train loss: 0.0006 | Test loss: 0.0048\n",
            "Epoch: 3 | Batch: 0 | Train loss: 0.0001 | Test loss: 0.0042\n",
            "Epoch: 3 | Batch: 600 | Train loss: 0.0001 | Test loss: 0.0109\n",
            "Epoch: 4 | Batch: 0 | Train loss: 0.0000 | Test loss: 0.0001\n",
            "Epoch: 4 | Batch: 600 | Train loss: 0.0000 | Test loss: 0.0009\n",
            "Epoch: 5 | Batch: 0 | Train loss: 0.0001 | Test loss: 0.0030\n",
            "Epoch: 5 | Batch: 600 | Train loss: 0.0001 | Test loss: 0.0009\n",
            "Epoch: 6 | Batch: 0 | Train loss: 0.0001 | Test loss: 0.0001\n",
            "Epoch: 6 | Batch: 600 | Train loss: 0.0001 | Test loss: 0.0277\n",
            "Epoch: 7 | Batch: 0 | Train loss: 0.0016 | Test loss: 0.0002\n",
            "Epoch: 7 | Batch: 600 | Train loss: 0.0016 | Test loss: 0.0051\n",
            "Epoch: 8 | Batch: 0 | Train loss: 0.0195 | Test loss: 0.0008\n",
            "Epoch: 8 | Batch: 600 | Train loss: 0.0195 | Test loss: 0.0082\n",
            "Epoch: 9 | Batch: 0 | Train loss: 0.0012 | Test loss: 0.0002\n",
            "Epoch: 9 | Batch: 600 | Train loss: 0.0012 | Test loss: 0.0072\n",
            "Training Took: 14.196252739429474 minutes!\n"
          ]
        }
>>>>>>> 46a820aedeac2956412d0d6c48a5edbb169522a1
      ]
    },
    {
      "cell_type": "code",
      "execution_count": 42,
      "metadata": {
        "colab": {
          "base_uri": "https://localhost:8080/",
          "height": 470
        },
        "id": "qS1SPJzua021",
        "outputId": "e0e74ccc-1234-4633-f033-ba9615eba333"
      },
<<<<<<< HEAD
=======
      "execution_count": null,
>>>>>>> 46a820aedeac2956412d0d6c48a5edbb169522a1
      "outputs": [
        {
          "data": {
            "text/plain": [
              "<matplotlib.legend.Legend at 0x78b2b03efaf0>"
            ]
          },
          "execution_count": 42,
          "metadata": {},
<<<<<<< HEAD
          "output_type": "execute_result"
=======
          "execution_count": 62
>>>>>>> 46a820aedeac2956412d0d6c48a5edbb169522a1
        },
        {
          "data": {
            "image/png": "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",
            "text/plain": [
              "<Figure size 640x480 with 1 Axes>"
<<<<<<< HEAD
            ]
=======
            ],
            "image/png": "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\n"
>>>>>>> 46a820aedeac2956412d0d6c48a5edbb169522a1
          },
          "metadata": {},
          "output_type": "display_data"
        }
      ],
      "source": [
        "# Graph the loss at each epoch\n",
        "plt.plot(train_losses, label=\"Training Loss\")\n",
        "plt.plot(test_losses, label=\"Validation Loss\")\n",
        "plt.title(\"Loss at Epoch\")\n",
        "plt.legend()"
      ]
    },
    {
      "cell_type": "code",
      "execution_count": 43,
      "metadata": {
        "colab": {
          "base_uri": "https://localhost:8080/",
          "height": 470
        },
        "id": "OM-_bLZ5ewDU",
        "outputId": "91617f24-a829-4e02-f819-4fa11b1bda37"
      },
<<<<<<< HEAD
=======
      "execution_count": null,
>>>>>>> 46a820aedeac2956412d0d6c48a5edbb169522a1
      "outputs": [
        {
          "data": {
            "text/plain": [
              "<matplotlib.legend.Legend at 0x78b2aefd30a0>"
            ]
          },
          "execution_count": 43,
          "metadata": {},
<<<<<<< HEAD
          "output_type": "execute_result"
=======
          "execution_count": 63
>>>>>>> 46a820aedeac2956412d0d6c48a5edbb169522a1
        },
        {
          "data": {
            "image/png": "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",
            "text/plain": [
              "<Figure size 640x480 with 1 Axes>"
<<<<<<< HEAD
            ]
=======
            ],
            "image/png": "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\n"
>>>>>>> 46a820aedeac2956412d0d6c48a5edbb169522a1
          },
          "metadata": {},
          "output_type": "display_data"
        }
      ],
      "source": [
        "# graph of accuracy\n",
        "plt.plot([t/600 for t in train_correct], label=\"Training Accuracy\")\n",
        "plt.plot([t/100 for t in test_correct], label=\"Validation Accuracy\")\n",
        "plt.title(\"Accuracy at the end of each epoch\")\n",
        "plt.legend()"
      ]
    },
    {
      "cell_type": "code",
      "execution_count": 44,
      "metadata": {
        "id": "7_pWqYunf1eZ"
      },
<<<<<<< HEAD
      "outputs": [],
      "source": [
        "test_load_everything = DataLoader(test_data, batch_size=1000, shuffle=False)"
      ]
=======
      "execution_count": null,
      "outputs": []
>>>>>>> 46a820aedeac2956412d0d6c48a5edbb169522a1
    },
    {
      "cell_type": "code",
      "execution_count": 45,
      "metadata": {
        "id": "E4KhhDPPgr9n"
      },
      "outputs": [],
      "source": [
        "with torch.no_grad():\n",
        "  correct = 0\n",
        "  for X_test, y_test in test_load_everything:\n",
        "    y_val = model(X_test)\n",
        "    predicted = torch.max(y_val, 1)[1]\n",
        "    correct += (predicted == y_test).sum()"
<<<<<<< HEAD
      ]
=======
      ],
      "metadata": {
        "id": "E4KhhDPPgr9n"
      },
      "execution_count": null,
      "outputs": []
>>>>>>> 46a820aedeac2956412d0d6c48a5edbb169522a1
    },
    {
      "cell_type": "code",
      "execution_count": 46,
      "metadata": {
        "colab": {
          "base_uri": "https://localhost:8080/"
        },
        "id": "Tgey5nSXhPlo",
        "outputId": "a4356e3f-26e2-473e-b26f-0043d35c00ce"
      },
<<<<<<< HEAD
=======
      "execution_count": null,
>>>>>>> 46a820aedeac2956412d0d6c48a5edbb169522a1
      "outputs": [
        {
          "data": {
            "text/plain": [
              "9866"
            ]
          },
          "execution_count": 46,
          "metadata": {},
<<<<<<< HEAD
          "output_type": "execute_result"
=======
          "execution_count": 66
>>>>>>> 46a820aedeac2956412d0d6c48a5edbb169522a1
        }
      ],
      "source": [
        "# Did it correct\n",
        "correct.item()"
      ]
    },
    {
      "cell_type": "code",
      "execution_count": 47,
      "metadata": {
        "colab": {
          "base_uri": "https://localhost:8080/"
        },
        "id": "KA792qgEhWJw",
        "outputId": "310bab1c-601f-44fb-b64e-3d4dc7776332"
      },
<<<<<<< HEAD
=======
      "execution_count": null,
>>>>>>> 46a820aedeac2956412d0d6c48a5edbb169522a1
      "outputs": [
        {
          "data": {
            "text/plain": [
              "98.66"
            ]
          },
          "execution_count": 47,
          "metadata": {},
<<<<<<< HEAD
          "output_type": "execute_result"
=======
          "execution_count": 67
>>>>>>> 46a820aedeac2956412d0d6c48a5edbb169522a1
        }
      ],
      "source": [
        "correct.item()/len(test_data)*100"
      ]
    },
    {
      "cell_type": "code",
      "execution_count": 48,
      "metadata": {
        "colab": {
          "base_uri": "https://localhost:8080/"
        },
        "id": "P8QZDggFh8Z_",
        "outputId": "97082eee-3513-4a92-87a6-11b01be097c1"
      },
<<<<<<< HEAD
=======
      "execution_count": null,
>>>>>>> 46a820aedeac2956412d0d6c48a5edbb169522a1
      "outputs": [
        {
          "data": {
            "text/plain": [
              "(tensor([[[0.0000, 0.0000, 0.0000, 0.0000, 0.0000, 0.0000, 0.0000, 0.0000,\n",
              "           0.0000, 0.0000, 0.0000, 0.0000, 0.0000, 0.0000, 0.0000, 0.0000,\n",
              "           0.0000, 0.0000, 0.0000, 0.0000, 0.0000, 0.0000, 0.0000, 0.0000,\n",
              "           0.0000, 0.0000, 0.0000, 0.0000],\n",
              "          [0.0000, 0.0000, 0.0000, 0.0000, 0.0000, 0.0000, 0.0000, 0.0000,\n",
              "           0.0000, 0.0000, 0.0000, 0.0000, 0.0000, 0.0000, 0.0000, 0.0000,\n",
              "           0.0000, 0.0000, 0.0000, 0.0000, 0.0000, 0.0000, 0.0000, 0.0000,\n",
              "           0.0000, 0.0000, 0.0000, 0.0000],\n",
              "          [0.0000, 0.0000, 0.0000, 0.0000, 0.0000, 0.0000, 0.0000, 0.0000,\n",
              "           0.0000, 0.0000, 0.0000, 0.0000, 0.0000, 0.0000, 0.0000, 0.0000,\n",
              "           0.0000, 0.0000, 0.0000, 0.0000, 0.0000, 0.0000, 0.0000, 0.0000,\n",
              "           0.0000, 0.0000, 0.0000, 0.0000],\n",
              "          [0.0000, 0.0000, 0.0000, 0.0000, 0.0000, 0.0000, 0.0000, 0.0000,\n",
              "           0.0000, 0.0000, 0.0000, 0.0000, 0.0000, 0.0000, 0.0000, 0.0000,\n",
              "           0.0000, 0.0000, 0.0000, 0.0000, 0.0000, 0.0000, 0.0000, 0.0000,\n",
              "           0.0000, 0.0000, 0.0000, 0.0000],\n",
              "          [0.0000, 0.0000, 0.0000, 0.0000, 0.0000, 0.0000, 0.0000, 0.0000,\n",
              "           0.0000, 0.0000, 0.0000, 0.0000, 0.0000, 0.0000, 0.0000, 0.0000,\n",
              "           0.0000, 0.0000, 0.0000, 0.0000, 0.0000, 0.0000, 0.0000, 0.0000,\n",
              "           0.0000, 0.0000, 0.0000, 0.0000],\n",
              "          [0.0000, 0.0000, 0.0000, 0.0000, 0.0000, 0.0000, 0.0000, 0.0000,\n",
              "           0.0000, 0.0000, 0.0000, 0.0000, 0.0000, 0.0000, 0.0000, 0.0000,\n",
              "           0.0000, 0.0000, 0.0000, 0.0000, 0.0000, 0.0000, 0.0000, 0.0000,\n",
              "           0.0000, 0.0000, 0.0000, 0.0000],\n",
              "          [0.0000, 0.0000, 0.0000, 0.0000, 0.0000, 0.0000, 0.0000, 0.0000,\n",
              "           0.0000, 0.0000, 0.0000, 0.1765, 0.9098, 0.8275, 0.4980, 0.0627,\n",
              "           0.0000, 0.0000, 0.0000, 0.0000, 0.0000, 0.0000, 0.0000, 0.0000,\n",
              "           0.0000, 0.0000, 0.0000, 0.0000],\n",
              "          [0.0000, 0.0000, 0.0000, 0.0000, 0.0000, 0.0000, 0.0000, 0.0000,\n",
              "           0.0000, 0.0000, 0.0706, 0.7961, 0.9961, 0.9961, 0.9961, 0.8235,\n",
              "           0.3765, 0.0667, 0.0000, 0.0000, 0.0000, 0.0000, 0.0000, 0.0000,\n",
              "           0.0000, 0.0000, 0.0000, 0.0000],\n",
              "          [0.0000, 0.0000, 0.0000, 0.0000, 0.0000, 0.0000, 0.0000, 0.0000,\n",
              "           0.0000, 0.0000, 0.4353, 0.9961, 0.9961, 0.4667, 0.8941, 0.9961,\n",
              "           0.9961, 0.9412, 0.1490, 0.0000, 0.0000, 0.0000, 0.0000, 0.0000,\n",
              "           0.0000, 0.0000, 0.0000, 0.0000],\n",
              "          [0.0000, 0.0000, 0.0000, 0.0000, 0.0000, 0.0000, 0.0000, 0.0000,\n",
              "           0.0000, 0.0000, 0.8824, 0.9961, 0.7922, 0.0588, 0.1569, 0.8235,\n",
              "           0.9961, 0.9961, 0.4431, 0.0000, 0.0000, 0.0000, 0.0000, 0.0000,\n",
              "           0.0000, 0.0000, 0.0000, 0.0000],\n",
              "          [0.0000, 0.0000, 0.0000, 0.0000, 0.0000, 0.0000, 0.0000, 0.0000,\n",
              "           0.0000, 0.2314, 0.9569, 0.9961, 0.2706, 0.0000, 0.0000, 0.8157,\n",
              "           0.9961, 0.9961, 0.6902, 0.0000, 0.0000, 0.0000, 0.0000, 0.0000,\n",
              "           0.0000, 0.0000, 0.0000, 0.0000],\n",
              "          [0.0000, 0.0000, 0.0000, 0.0000, 0.0000, 0.0000, 0.0000, 0.0000,\n",
              "           0.0000, 0.7725, 0.9961, 0.9961, 0.1333, 0.0000, 0.2235, 0.9843,\n",
              "           0.9961, 0.9961, 0.5725, 0.0000, 0.0000, 0.0000, 0.0000, 0.0000,\n",
              "           0.0000, 0.0000, 0.0000, 0.0000],\n",
              "          [0.0000, 0.0000, 0.0000, 0.0000, 0.0000, 0.0000, 0.0000, 0.0000,\n",
              "           0.0000, 0.9176, 0.9961, 0.6235, 0.0157, 0.0392, 0.7176, 0.9961,\n",
              "           0.9961, 0.9961, 0.3843, 0.0000, 0.0000, 0.0000, 0.0000, 0.0000,\n",
              "           0.0000, 0.0000, 0.0000, 0.0000],\n",
              "          [0.0000, 0.0000, 0.0000, 0.0000, 0.0000, 0.0000, 0.0000, 0.0000,\n",
              "           0.0000, 0.9176, 0.9961, 0.1569, 0.0000, 0.6549, 0.9961, 0.9961,\n",
              "           0.9961, 0.9961, 0.2353, 0.0000, 0.0000, 0.0000, 0.0000, 0.0000,\n",
              "           0.0000, 0.0000, 0.0000, 0.0000],\n",
              "          [0.0000, 0.0000, 0.0000, 0.0000, 0.0000, 0.0000, 0.0000, 0.0000,\n",
              "           0.0000, 0.7373, 0.9961, 0.2824, 0.6588, 0.9765, 0.9961, 0.9961,\n",
              "           0.9961, 0.9961, 0.2353, 0.0000, 0.0000, 0.0000, 0.0000, 0.0000,\n",
              "           0.0000, 0.0000, 0.0000, 0.0000],\n",
              "          [0.0000, 0.0000, 0.0000, 0.0000, 0.0000, 0.0000, 0.0000, 0.0000,\n",
              "           0.0000, 0.3647, 0.9804, 0.9961, 0.9961, 0.9961, 0.9961, 0.9961,\n",
              "           0.9961, 0.9961, 0.2353, 0.0000, 0.0000, 0.0000, 0.0000, 0.0000,\n",
              "           0.0000, 0.0000, 0.0000, 0.0000],\n",
              "          [0.0000, 0.0000, 0.0000, 0.0000, 0.0000, 0.0000, 0.0000, 0.0000,\n",
              "           0.0000, 0.0000, 0.6784, 0.9961, 0.9961, 0.9961, 0.9451, 0.9961,\n",
              "           0.9961, 0.6824, 0.0392, 0.0000, 0.0000, 0.0000, 0.0000, 0.0000,\n",
              "           0.0000, 0.0000, 0.0000, 0.0000],\n",
              "          [0.0000, 0.0000, 0.0000, 0.0000, 0.0000, 0.0000, 0.0000, 0.0000,\n",
              "           0.0000, 0.0000, 0.0431, 0.4863, 0.8157, 0.4627, 0.5804, 0.9961,\n",
              "           0.9961, 0.8941, 0.0000, 0.0000, 0.0000, 0.0000, 0.0000, 0.0000,\n",
              "           0.0000, 0.0000, 0.0000, 0.0000],\n",
              "          [0.0000, 0.0000, 0.0000, 0.0000, 0.0000, 0.0000, 0.0000, 0.0000,\n",
              "           0.0000, 0.0000, 0.0000, 0.0000, 0.0000, 0.0000, 0.4941, 0.9961,\n",
              "           0.9961, 0.6235, 0.0000, 0.0000, 0.0000, 0.0000, 0.0000, 0.0000,\n",
              "           0.0000, 0.0000, 0.0000, 0.0000],\n",
              "          [0.0000, 0.0000, 0.0000, 0.0000, 0.0000, 0.0000, 0.0000, 0.0000,\n",
              "           0.0000, 0.0000, 0.0000, 0.0000, 0.0000, 0.0000, 0.7569, 0.9961,\n",
              "           0.9961, 0.5569, 0.0000, 0.0000, 0.0000, 0.0000, 0.0000, 0.0000,\n",
              "           0.0000, 0.0000, 0.0000, 0.0000],\n",
              "          [0.0000, 0.0000, 0.0000, 0.0000, 0.0000, 0.0000, 0.0000, 0.0000,\n",
              "           0.0000, 0.0000, 0.0000, 0.0000, 0.0000, 0.0000, 0.8314, 0.9961,\n",
              "           0.9961, 0.4157, 0.0000, 0.0000, 0.0000, 0.0000, 0.0000, 0.0000,\n",
              "           0.0000, 0.0000, 0.0000, 0.0000],\n",
              "          [0.0000, 0.0000, 0.0000, 0.0000, 0.0000, 0.0000, 0.0000, 0.0000,\n",
              "           0.0000, 0.0000, 0.0000, 0.0000, 0.0000, 0.0118, 0.8431, 0.9961,\n",
              "           0.9882, 0.2039, 0.0000, 0.0000, 0.0000, 0.0000, 0.0000, 0.0000,\n",
              "           0.0000, 0.0000, 0.0000, 0.0000],\n",
              "          [0.0000, 0.0000, 0.0000, 0.0000, 0.0000, 0.0000, 0.0000, 0.0000,\n",
              "           0.0000, 0.0000, 0.0000, 0.0000, 0.0000, 0.1882, 0.9961, 0.9961,\n",
              "           0.9255, 0.0863, 0.0000, 0.0000, 0.0000, 0.0000, 0.0000, 0.0000,\n",
              "           0.0000, 0.0000, 0.0000, 0.0000],\n",
              "          [0.0000, 0.0000, 0.0000, 0.0000, 0.0000, 0.0000, 0.0000, 0.0000,\n",
              "           0.0000, 0.0000, 0.0000, 0.0000, 0.0000, 0.5098, 0.9961, 1.0000,\n",
              "           0.5529, 0.0627, 0.0000, 0.0000, 0.0000, 0.0000, 0.0000, 0.0000,\n",
              "           0.0000, 0.0000, 0.0000, 0.0000],\n",
              "          [0.0000, 0.0000, 0.0000, 0.0000, 0.0000, 0.0000, 0.0000, 0.0000,\n",
              "           0.0000, 0.0000, 0.0000, 0.0000, 0.0000, 0.5098, 0.9961, 1.0000,\n",
              "           0.3059, 0.0000, 0.0000, 0.0000, 0.0000, 0.0000, 0.0000, 0.0000,\n",
              "           0.0000, 0.0000, 0.0000, 0.0000],\n",
              "          [0.0000, 0.0000, 0.0000, 0.0000, 0.0000, 0.0000, 0.0000, 0.0000,\n",
              "           0.0000, 0.0000, 0.0000, 0.0000, 0.0000, 0.3961, 0.9961, 0.7882,\n",
              "           0.0667, 0.0000, 0.0000, 0.0000, 0.0000, 0.0000, 0.0000, 0.0000,\n",
              "           0.0000, 0.0000, 0.0000, 0.0000],\n",
              "          [0.0000, 0.0000, 0.0000, 0.0000, 0.0000, 0.0000, 0.0000, 0.0000,\n",
              "           0.0000, 0.0000, 0.0000, 0.0000, 0.0000, 0.0000, 0.0000, 0.0000,\n",
              "           0.0000, 0.0000, 0.0000, 0.0000, 0.0000, 0.0000, 0.0000, 0.0000,\n",
              "           0.0000, 0.0000, 0.0000, 0.0000],\n",
              "          [0.0000, 0.0000, 0.0000, 0.0000, 0.0000, 0.0000, 0.0000, 0.0000,\n",
              "           0.0000, 0.0000, 0.0000, 0.0000, 0.0000, 0.0000, 0.0000, 0.0000,\n",
              "           0.0000, 0.0000, 0.0000, 0.0000, 0.0000, 0.0000, 0.0000, 0.0000,\n",
              "           0.0000, 0.0000, 0.0000, 0.0000]]]),\n",
              " 9)"
            ]
          },
          "execution_count": 48,
          "metadata": {},
<<<<<<< HEAD
          "output_type": "execute_result"
=======
          "execution_count": 68
>>>>>>> 46a820aedeac2956412d0d6c48a5edbb169522a1
        }
      ],
      "source": [
        "# Grab an image\n",
        "test_data[4143] # Tensor with an image in it.... at end it shows the label"
      ]
    },
    {
      "cell_type": "code",
      "execution_count": 49,
      "metadata": {
        "colab": {
          "base_uri": "https://localhost:8080/"
        },
        "id": "oJ91fPTbiZXP",
        "outputId": "ff350a73-4b76-4d84-fbf6-61d0ef01b791"
      },
<<<<<<< HEAD
=======
      "execution_count": null,
>>>>>>> 46a820aedeac2956412d0d6c48a5edbb169522a1
      "outputs": [
        {
          "data": {
            "text/plain": [
              "tensor([[[0.0000, 0.0000, 0.0000, 0.0000, 0.0000, 0.0000, 0.0000, 0.0000,\n",
              "          0.0000, 0.0000, 0.0000, 0.0000, 0.0000, 0.0000, 0.0000, 0.0000,\n",
              "          0.0000, 0.0000, 0.0000, 0.0000, 0.0000, 0.0000, 0.0000, 0.0000,\n",
              "          0.0000, 0.0000, 0.0000, 0.0000],\n",
              "         [0.0000, 0.0000, 0.0000, 0.0000, 0.0000, 0.0000, 0.0000, 0.0000,\n",
              "          0.0000, 0.0000, 0.0000, 0.0000, 0.0000, 0.0000, 0.0000, 0.0000,\n",
              "          0.0000, 0.0000, 0.0000, 0.0000, 0.0000, 0.0000, 0.0000, 0.0000,\n",
              "          0.0000, 0.0000, 0.0000, 0.0000],\n",
              "         [0.0000, 0.0000, 0.0000, 0.0000, 0.0000, 0.0000, 0.0000, 0.0000,\n",
              "          0.0000, 0.0000, 0.0000, 0.0000, 0.0000, 0.0000, 0.0000, 0.0000,\n",
              "          0.0000, 0.0000, 0.0000, 0.0000, 0.0000, 0.0000, 0.0000, 0.0000,\n",
              "          0.0000, 0.0000, 0.0000, 0.0000],\n",
              "         [0.0000, 0.0000, 0.0000, 0.0000, 0.0000, 0.0000, 0.0000, 0.0000,\n",
              "          0.0000, 0.0000, 0.0000, 0.0000, 0.0000, 0.0000, 0.0000, 0.0000,\n",
              "          0.0000, 0.0000, 0.0000, 0.0000, 0.0000, 0.0000, 0.0000, 0.0000,\n",
              "          0.0000, 0.0000, 0.0000, 0.0000],\n",
              "         [0.0000, 0.0000, 0.0000, 0.0000, 0.0000, 0.0000, 0.0000, 0.0000,\n",
              "          0.0000, 0.0000, 0.0000, 0.0000, 0.0000, 0.0000, 0.0000, 0.0000,\n",
              "          0.0000, 0.0000, 0.0000, 0.0000, 0.0000, 0.0000, 0.0000, 0.0000,\n",
              "          0.0000, 0.0000, 0.0000, 0.0000],\n",
              "         [0.0000, 0.0000, 0.0000, 0.0000, 0.0000, 0.0000, 0.0000, 0.0000,\n",
              "          0.0000, 0.0000, 0.0000, 0.0000, 0.0000, 0.0000, 0.0000, 0.0000,\n",
              "          0.0000, 0.0000, 0.0000, 0.0000, 0.0000, 0.0000, 0.0000, 0.0000,\n",
              "          0.0000, 0.0000, 0.0000, 0.0000],\n",
              "         [0.0000, 0.0000, 0.0000, 0.0000, 0.0000, 0.0000, 0.0000, 0.0000,\n",
              "          0.0000, 0.0000, 0.0000, 0.1765, 0.9098, 0.8275, 0.4980, 0.0627,\n",
              "          0.0000, 0.0000, 0.0000, 0.0000, 0.0000, 0.0000, 0.0000, 0.0000,\n",
              "          0.0000, 0.0000, 0.0000, 0.0000],\n",
              "         [0.0000, 0.0000, 0.0000, 0.0000, 0.0000, 0.0000, 0.0000, 0.0000,\n",
              "          0.0000, 0.0000, 0.0706, 0.7961, 0.9961, 0.9961, 0.9961, 0.8235,\n",
              "          0.3765, 0.0667, 0.0000, 0.0000, 0.0000, 0.0000, 0.0000, 0.0000,\n",
              "          0.0000, 0.0000, 0.0000, 0.0000],\n",
              "         [0.0000, 0.0000, 0.0000, 0.0000, 0.0000, 0.0000, 0.0000, 0.0000,\n",
              "          0.0000, 0.0000, 0.4353, 0.9961, 0.9961, 0.4667, 0.8941, 0.9961,\n",
              "          0.9961, 0.9412, 0.1490, 0.0000, 0.0000, 0.0000, 0.0000, 0.0000,\n",
              "          0.0000, 0.0000, 0.0000, 0.0000],\n",
              "         [0.0000, 0.0000, 0.0000, 0.0000, 0.0000, 0.0000, 0.0000, 0.0000,\n",
              "          0.0000, 0.0000, 0.8824, 0.9961, 0.7922, 0.0588, 0.1569, 0.8235,\n",
              "          0.9961, 0.9961, 0.4431, 0.0000, 0.0000, 0.0000, 0.0000, 0.0000,\n",
              "          0.0000, 0.0000, 0.0000, 0.0000],\n",
              "         [0.0000, 0.0000, 0.0000, 0.0000, 0.0000, 0.0000, 0.0000, 0.0000,\n",
              "          0.0000, 0.2314, 0.9569, 0.9961, 0.2706, 0.0000, 0.0000, 0.8157,\n",
              "          0.9961, 0.9961, 0.6902, 0.0000, 0.0000, 0.0000, 0.0000, 0.0000,\n",
              "          0.0000, 0.0000, 0.0000, 0.0000],\n",
              "         [0.0000, 0.0000, 0.0000, 0.0000, 0.0000, 0.0000, 0.0000, 0.0000,\n",
              "          0.0000, 0.7725, 0.9961, 0.9961, 0.1333, 0.0000, 0.2235, 0.9843,\n",
              "          0.9961, 0.9961, 0.5725, 0.0000, 0.0000, 0.0000, 0.0000, 0.0000,\n",
              "          0.0000, 0.0000, 0.0000, 0.0000],\n",
              "         [0.0000, 0.0000, 0.0000, 0.0000, 0.0000, 0.0000, 0.0000, 0.0000,\n",
              "          0.0000, 0.9176, 0.9961, 0.6235, 0.0157, 0.0392, 0.7176, 0.9961,\n",
              "          0.9961, 0.9961, 0.3843, 0.0000, 0.0000, 0.0000, 0.0000, 0.0000,\n",
              "          0.0000, 0.0000, 0.0000, 0.0000],\n",
              "         [0.0000, 0.0000, 0.0000, 0.0000, 0.0000, 0.0000, 0.0000, 0.0000,\n",
              "          0.0000, 0.9176, 0.9961, 0.1569, 0.0000, 0.6549, 0.9961, 0.9961,\n",
              "          0.9961, 0.9961, 0.2353, 0.0000, 0.0000, 0.0000, 0.0000, 0.0000,\n",
              "          0.0000, 0.0000, 0.0000, 0.0000],\n",
              "         [0.0000, 0.0000, 0.0000, 0.0000, 0.0000, 0.0000, 0.0000, 0.0000,\n",
              "          0.0000, 0.7373, 0.9961, 0.2824, 0.6588, 0.9765, 0.9961, 0.9961,\n",
              "          0.9961, 0.9961, 0.2353, 0.0000, 0.0000, 0.0000, 0.0000, 0.0000,\n",
              "          0.0000, 0.0000, 0.0000, 0.0000],\n",
              "         [0.0000, 0.0000, 0.0000, 0.0000, 0.0000, 0.0000, 0.0000, 0.0000,\n",
              "          0.0000, 0.3647, 0.9804, 0.9961, 0.9961, 0.9961, 0.9961, 0.9961,\n",
              "          0.9961, 0.9961, 0.2353, 0.0000, 0.0000, 0.0000, 0.0000, 0.0000,\n",
              "          0.0000, 0.0000, 0.0000, 0.0000],\n",
              "         [0.0000, 0.0000, 0.0000, 0.0000, 0.0000, 0.0000, 0.0000, 0.0000,\n",
              "          0.0000, 0.0000, 0.6784, 0.9961, 0.9961, 0.9961, 0.9451, 0.9961,\n",
              "          0.9961, 0.6824, 0.0392, 0.0000, 0.0000, 0.0000, 0.0000, 0.0000,\n",
              "          0.0000, 0.0000, 0.0000, 0.0000],\n",
              "         [0.0000, 0.0000, 0.0000, 0.0000, 0.0000, 0.0000, 0.0000, 0.0000,\n",
              "          0.0000, 0.0000, 0.0431, 0.4863, 0.8157, 0.4627, 0.5804, 0.9961,\n",
              "          0.9961, 0.8941, 0.0000, 0.0000, 0.0000, 0.0000, 0.0000, 0.0000,\n",
              "          0.0000, 0.0000, 0.0000, 0.0000],\n",
              "         [0.0000, 0.0000, 0.0000, 0.0000, 0.0000, 0.0000, 0.0000, 0.0000,\n",
              "          0.0000, 0.0000, 0.0000, 0.0000, 0.0000, 0.0000, 0.4941, 0.9961,\n",
              "          0.9961, 0.6235, 0.0000, 0.0000, 0.0000, 0.0000, 0.0000, 0.0000,\n",
              "          0.0000, 0.0000, 0.0000, 0.0000],\n",
              "         [0.0000, 0.0000, 0.0000, 0.0000, 0.0000, 0.0000, 0.0000, 0.0000,\n",
              "          0.0000, 0.0000, 0.0000, 0.0000, 0.0000, 0.0000, 0.7569, 0.9961,\n",
              "          0.9961, 0.5569, 0.0000, 0.0000, 0.0000, 0.0000, 0.0000, 0.0000,\n",
              "          0.0000, 0.0000, 0.0000, 0.0000],\n",
              "         [0.0000, 0.0000, 0.0000, 0.0000, 0.0000, 0.0000, 0.0000, 0.0000,\n",
              "          0.0000, 0.0000, 0.0000, 0.0000, 0.0000, 0.0000, 0.8314, 0.9961,\n",
              "          0.9961, 0.4157, 0.0000, 0.0000, 0.0000, 0.0000, 0.0000, 0.0000,\n",
              "          0.0000, 0.0000, 0.0000, 0.0000],\n",
              "         [0.0000, 0.0000, 0.0000, 0.0000, 0.0000, 0.0000, 0.0000, 0.0000,\n",
              "          0.0000, 0.0000, 0.0000, 0.0000, 0.0000, 0.0118, 0.8431, 0.9961,\n",
              "          0.9882, 0.2039, 0.0000, 0.0000, 0.0000, 0.0000, 0.0000, 0.0000,\n",
              "          0.0000, 0.0000, 0.0000, 0.0000],\n",
              "         [0.0000, 0.0000, 0.0000, 0.0000, 0.0000, 0.0000, 0.0000, 0.0000,\n",
              "          0.0000, 0.0000, 0.0000, 0.0000, 0.0000, 0.1882, 0.9961, 0.9961,\n",
              "          0.9255, 0.0863, 0.0000, 0.0000, 0.0000, 0.0000, 0.0000, 0.0000,\n",
              "          0.0000, 0.0000, 0.0000, 0.0000],\n",
              "         [0.0000, 0.0000, 0.0000, 0.0000, 0.0000, 0.0000, 0.0000, 0.0000,\n",
              "          0.0000, 0.0000, 0.0000, 0.0000, 0.0000, 0.5098, 0.9961, 1.0000,\n",
              "          0.5529, 0.0627, 0.0000, 0.0000, 0.0000, 0.0000, 0.0000, 0.0000,\n",
              "          0.0000, 0.0000, 0.0000, 0.0000],\n",
              "         [0.0000, 0.0000, 0.0000, 0.0000, 0.0000, 0.0000, 0.0000, 0.0000,\n",
              "          0.0000, 0.0000, 0.0000, 0.0000, 0.0000, 0.5098, 0.9961, 1.0000,\n",
              "          0.3059, 0.0000, 0.0000, 0.0000, 0.0000, 0.0000, 0.0000, 0.0000,\n",
              "          0.0000, 0.0000, 0.0000, 0.0000],\n",
              "         [0.0000, 0.0000, 0.0000, 0.0000, 0.0000, 0.0000, 0.0000, 0.0000,\n",
              "          0.0000, 0.0000, 0.0000, 0.0000, 0.0000, 0.3961, 0.9961, 0.7882,\n",
              "          0.0667, 0.0000, 0.0000, 0.0000, 0.0000, 0.0000, 0.0000, 0.0000,\n",
              "          0.0000, 0.0000, 0.0000, 0.0000],\n",
              "         [0.0000, 0.0000, 0.0000, 0.0000, 0.0000, 0.0000, 0.0000, 0.0000,\n",
              "          0.0000, 0.0000, 0.0000, 0.0000, 0.0000, 0.0000, 0.0000, 0.0000,\n",
              "          0.0000, 0.0000, 0.0000, 0.0000, 0.0000, 0.0000, 0.0000, 0.0000,\n",
              "          0.0000, 0.0000, 0.0000, 0.0000],\n",
              "         [0.0000, 0.0000, 0.0000, 0.0000, 0.0000, 0.0000, 0.0000, 0.0000,\n",
              "          0.0000, 0.0000, 0.0000, 0.0000, 0.0000, 0.0000, 0.0000, 0.0000,\n",
              "          0.0000, 0.0000, 0.0000, 0.0000, 0.0000, 0.0000, 0.0000, 0.0000,\n",
              "          0.0000, 0.0000, 0.0000, 0.0000]]])"
            ]
          },
          "execution_count": 49,
          "metadata": {},
<<<<<<< HEAD
          "output_type": "execute_result"
=======
          "execution_count": 69
>>>>>>> 46a820aedeac2956412d0d6c48a5edbb169522a1
        }
      ],
      "source": [
        "# Grab the data\n",
        "test_data[4143][0]"
      ]
    },
    {
      "cell_type": "code",
      "execution_count": 50,
      "metadata": {
        "colab": {
          "base_uri": "https://localhost:8080/"
        },
        "id": "omv7d_oZirA9",
        "outputId": "775f3b8d-8cb7-4ef6-d9cd-934d3b37ed3e"
      },
<<<<<<< HEAD
=======
      "execution_count": null,
>>>>>>> 46a820aedeac2956412d0d6c48a5edbb169522a1
      "outputs": [
        {
          "data": {
            "text/plain": [
              "tensor([[0.0000, 0.0000, 0.0000, 0.0000, 0.0000, 0.0000, 0.0000, 0.0000, 0.0000,\n",
              "         0.0000, 0.0000, 0.0000, 0.0000, 0.0000, 0.0000, 0.0000, 0.0000, 0.0000,\n",
              "         0.0000, 0.0000, 0.0000, 0.0000, 0.0000, 0.0000, 0.0000, 0.0000, 0.0000,\n",
              "         0.0000],\n",
              "        [0.0000, 0.0000, 0.0000, 0.0000, 0.0000, 0.0000, 0.0000, 0.0000, 0.0000,\n",
              "         0.0000, 0.0000, 0.0000, 0.0000, 0.0000, 0.0000, 0.0000, 0.0000, 0.0000,\n",
              "         0.0000, 0.0000, 0.0000, 0.0000, 0.0000, 0.0000, 0.0000, 0.0000, 0.0000,\n",
              "         0.0000],\n",
              "        [0.0000, 0.0000, 0.0000, 0.0000, 0.0000, 0.0000, 0.0000, 0.0000, 0.0000,\n",
              "         0.0000, 0.0000, 0.0000, 0.0000, 0.0000, 0.0000, 0.0000, 0.0000, 0.0000,\n",
              "         0.0000, 0.0000, 0.0000, 0.0000, 0.0000, 0.0000, 0.0000, 0.0000, 0.0000,\n",
              "         0.0000],\n",
              "        [0.0000, 0.0000, 0.0000, 0.0000, 0.0000, 0.0000, 0.0000, 0.0000, 0.0000,\n",
              "         0.0000, 0.0000, 0.0000, 0.0000, 0.0000, 0.0000, 0.0000, 0.0000, 0.0000,\n",
              "         0.0000, 0.0000, 0.0000, 0.0000, 0.0000, 0.0000, 0.0000, 0.0000, 0.0000,\n",
              "         0.0000],\n",
              "        [0.0000, 0.0000, 0.0000, 0.0000, 0.0000, 0.0000, 0.0000, 0.0000, 0.0000,\n",
              "         0.0000, 0.0000, 0.0000, 0.0000, 0.0000, 0.0000, 0.0000, 0.0000, 0.0000,\n",
              "         0.0000, 0.0000, 0.0000, 0.0000, 0.0000, 0.0000, 0.0000, 0.0000, 0.0000,\n",
              "         0.0000],\n",
              "        [0.0000, 0.0000, 0.0000, 0.0000, 0.0000, 0.0000, 0.0000, 0.0000, 0.0000,\n",
              "         0.0000, 0.0000, 0.0000, 0.0000, 0.0000, 0.0000, 0.0000, 0.0000, 0.0000,\n",
              "         0.0000, 0.0000, 0.0000, 0.0000, 0.0000, 0.0000, 0.0000, 0.0000, 0.0000,\n",
              "         0.0000],\n",
              "        [0.0000, 0.0000, 0.0000, 0.0000, 0.0000, 0.0000, 0.0000, 0.0000, 0.0000,\n",
              "         0.0000, 0.0000, 0.1765, 0.9098, 0.8275, 0.4980, 0.0627, 0.0000, 0.0000,\n",
              "         0.0000, 0.0000, 0.0000, 0.0000, 0.0000, 0.0000, 0.0000, 0.0000, 0.0000,\n",
              "         0.0000],\n",
              "        [0.0000, 0.0000, 0.0000, 0.0000, 0.0000, 0.0000, 0.0000, 0.0000, 0.0000,\n",
              "         0.0000, 0.0706, 0.7961, 0.9961, 0.9961, 0.9961, 0.8235, 0.3765, 0.0667,\n",
              "         0.0000, 0.0000, 0.0000, 0.0000, 0.0000, 0.0000, 0.0000, 0.0000, 0.0000,\n",
              "         0.0000],\n",
              "        [0.0000, 0.0000, 0.0000, 0.0000, 0.0000, 0.0000, 0.0000, 0.0000, 0.0000,\n",
              "         0.0000, 0.4353, 0.9961, 0.9961, 0.4667, 0.8941, 0.9961, 0.9961, 0.9412,\n",
              "         0.1490, 0.0000, 0.0000, 0.0000, 0.0000, 0.0000, 0.0000, 0.0000, 0.0000,\n",
              "         0.0000],\n",
              "        [0.0000, 0.0000, 0.0000, 0.0000, 0.0000, 0.0000, 0.0000, 0.0000, 0.0000,\n",
              "         0.0000, 0.8824, 0.9961, 0.7922, 0.0588, 0.1569, 0.8235, 0.9961, 0.9961,\n",
              "         0.4431, 0.0000, 0.0000, 0.0000, 0.0000, 0.0000, 0.0000, 0.0000, 0.0000,\n",
              "         0.0000],\n",
              "        [0.0000, 0.0000, 0.0000, 0.0000, 0.0000, 0.0000, 0.0000, 0.0000, 0.0000,\n",
              "         0.2314, 0.9569, 0.9961, 0.2706, 0.0000, 0.0000, 0.8157, 0.9961, 0.9961,\n",
              "         0.6902, 0.0000, 0.0000, 0.0000, 0.0000, 0.0000, 0.0000, 0.0000, 0.0000,\n",
              "         0.0000],\n",
              "        [0.0000, 0.0000, 0.0000, 0.0000, 0.0000, 0.0000, 0.0000, 0.0000, 0.0000,\n",
              "         0.7725, 0.9961, 0.9961, 0.1333, 0.0000, 0.2235, 0.9843, 0.9961, 0.9961,\n",
              "         0.5725, 0.0000, 0.0000, 0.0000, 0.0000, 0.0000, 0.0000, 0.0000, 0.0000,\n",
              "         0.0000],\n",
              "        [0.0000, 0.0000, 0.0000, 0.0000, 0.0000, 0.0000, 0.0000, 0.0000, 0.0000,\n",
              "         0.9176, 0.9961, 0.6235, 0.0157, 0.0392, 0.7176, 0.9961, 0.9961, 0.9961,\n",
              "         0.3843, 0.0000, 0.0000, 0.0000, 0.0000, 0.0000, 0.0000, 0.0000, 0.0000,\n",
              "         0.0000],\n",
              "        [0.0000, 0.0000, 0.0000, 0.0000, 0.0000, 0.0000, 0.0000, 0.0000, 0.0000,\n",
              "         0.9176, 0.9961, 0.1569, 0.0000, 0.6549, 0.9961, 0.9961, 0.9961, 0.9961,\n",
              "         0.2353, 0.0000, 0.0000, 0.0000, 0.0000, 0.0000, 0.0000, 0.0000, 0.0000,\n",
              "         0.0000],\n",
              "        [0.0000, 0.0000, 0.0000, 0.0000, 0.0000, 0.0000, 0.0000, 0.0000, 0.0000,\n",
              "         0.7373, 0.9961, 0.2824, 0.6588, 0.9765, 0.9961, 0.9961, 0.9961, 0.9961,\n",
              "         0.2353, 0.0000, 0.0000, 0.0000, 0.0000, 0.0000, 0.0000, 0.0000, 0.0000,\n",
              "         0.0000],\n",
              "        [0.0000, 0.0000, 0.0000, 0.0000, 0.0000, 0.0000, 0.0000, 0.0000, 0.0000,\n",
              "         0.3647, 0.9804, 0.9961, 0.9961, 0.9961, 0.9961, 0.9961, 0.9961, 0.9961,\n",
              "         0.2353, 0.0000, 0.0000, 0.0000, 0.0000, 0.0000, 0.0000, 0.0000, 0.0000,\n",
              "         0.0000],\n",
              "        [0.0000, 0.0000, 0.0000, 0.0000, 0.0000, 0.0000, 0.0000, 0.0000, 0.0000,\n",
              "         0.0000, 0.6784, 0.9961, 0.9961, 0.9961, 0.9451, 0.9961, 0.9961, 0.6824,\n",
              "         0.0392, 0.0000, 0.0000, 0.0000, 0.0000, 0.0000, 0.0000, 0.0000, 0.0000,\n",
              "         0.0000],\n",
              "        [0.0000, 0.0000, 0.0000, 0.0000, 0.0000, 0.0000, 0.0000, 0.0000, 0.0000,\n",
              "         0.0000, 0.0431, 0.4863, 0.8157, 0.4627, 0.5804, 0.9961, 0.9961, 0.8941,\n",
              "         0.0000, 0.0000, 0.0000, 0.0000, 0.0000, 0.0000, 0.0000, 0.0000, 0.0000,\n",
              "         0.0000],\n",
              "        [0.0000, 0.0000, 0.0000, 0.0000, 0.0000, 0.0000, 0.0000, 0.0000, 0.0000,\n",
              "         0.0000, 0.0000, 0.0000, 0.0000, 0.0000, 0.4941, 0.9961, 0.9961, 0.6235,\n",
              "         0.0000, 0.0000, 0.0000, 0.0000, 0.0000, 0.0000, 0.0000, 0.0000, 0.0000,\n",
              "         0.0000],\n",
              "        [0.0000, 0.0000, 0.0000, 0.0000, 0.0000, 0.0000, 0.0000, 0.0000, 0.0000,\n",
              "         0.0000, 0.0000, 0.0000, 0.0000, 0.0000, 0.7569, 0.9961, 0.9961, 0.5569,\n",
              "         0.0000, 0.0000, 0.0000, 0.0000, 0.0000, 0.0000, 0.0000, 0.0000, 0.0000,\n",
              "         0.0000],\n",
              "        [0.0000, 0.0000, 0.0000, 0.0000, 0.0000, 0.0000, 0.0000, 0.0000, 0.0000,\n",
              "         0.0000, 0.0000, 0.0000, 0.0000, 0.0000, 0.8314, 0.9961, 0.9961, 0.4157,\n",
              "         0.0000, 0.0000, 0.0000, 0.0000, 0.0000, 0.0000, 0.0000, 0.0000, 0.0000,\n",
              "         0.0000],\n",
              "        [0.0000, 0.0000, 0.0000, 0.0000, 0.0000, 0.0000, 0.0000, 0.0000, 0.0000,\n",
              "         0.0000, 0.0000, 0.0000, 0.0000, 0.0118, 0.8431, 0.9961, 0.9882, 0.2039,\n",
              "         0.0000, 0.0000, 0.0000, 0.0000, 0.0000, 0.0000, 0.0000, 0.0000, 0.0000,\n",
              "         0.0000],\n",
              "        [0.0000, 0.0000, 0.0000, 0.0000, 0.0000, 0.0000, 0.0000, 0.0000, 0.0000,\n",
              "         0.0000, 0.0000, 0.0000, 0.0000, 0.1882, 0.9961, 0.9961, 0.9255, 0.0863,\n",
              "         0.0000, 0.0000, 0.0000, 0.0000, 0.0000, 0.0000, 0.0000, 0.0000, 0.0000,\n",
              "         0.0000],\n",
              "        [0.0000, 0.0000, 0.0000, 0.0000, 0.0000, 0.0000, 0.0000, 0.0000, 0.0000,\n",
              "         0.0000, 0.0000, 0.0000, 0.0000, 0.5098, 0.9961, 1.0000, 0.5529, 0.0627,\n",
              "         0.0000, 0.0000, 0.0000, 0.0000, 0.0000, 0.0000, 0.0000, 0.0000, 0.0000,\n",
              "         0.0000],\n",
              "        [0.0000, 0.0000, 0.0000, 0.0000, 0.0000, 0.0000, 0.0000, 0.0000, 0.0000,\n",
              "         0.0000, 0.0000, 0.0000, 0.0000, 0.5098, 0.9961, 1.0000, 0.3059, 0.0000,\n",
              "         0.0000, 0.0000, 0.0000, 0.0000, 0.0000, 0.0000, 0.0000, 0.0000, 0.0000,\n",
              "         0.0000],\n",
              "        [0.0000, 0.0000, 0.0000, 0.0000, 0.0000, 0.0000, 0.0000, 0.0000, 0.0000,\n",
              "         0.0000, 0.0000, 0.0000, 0.0000, 0.3961, 0.9961, 0.7882, 0.0667, 0.0000,\n",
              "         0.0000, 0.0000, 0.0000, 0.0000, 0.0000, 0.0000, 0.0000, 0.0000, 0.0000,\n",
              "         0.0000],\n",
              "        [0.0000, 0.0000, 0.0000, 0.0000, 0.0000, 0.0000, 0.0000, 0.0000, 0.0000,\n",
              "         0.0000, 0.0000, 0.0000, 0.0000, 0.0000, 0.0000, 0.0000, 0.0000, 0.0000,\n",
              "         0.0000, 0.0000, 0.0000, 0.0000, 0.0000, 0.0000, 0.0000, 0.0000, 0.0000,\n",
              "         0.0000],\n",
              "        [0.0000, 0.0000, 0.0000, 0.0000, 0.0000, 0.0000, 0.0000, 0.0000, 0.0000,\n",
              "         0.0000, 0.0000, 0.0000, 0.0000, 0.0000, 0.0000, 0.0000, 0.0000, 0.0000,\n",
              "         0.0000, 0.0000, 0.0000, 0.0000, 0.0000, 0.0000, 0.0000, 0.0000, 0.0000,\n",
              "         0.0000]])"
            ]
          },
          "execution_count": 50,
          "metadata": {},
<<<<<<< HEAD
          "output_type": "execute_result"
=======
          "execution_count": 70
>>>>>>> 46a820aedeac2956412d0d6c48a5edbb169522a1
        }
      ],
      "source": [
        "# Reshape it\n",
        "test_data[4143][0].reshape(28,28)"
      ]
    },
    {
      "cell_type": "code",
      "execution_count": 51,
      "metadata": {
        "colab": {
          "base_uri": "https://localhost:8080/",
          "height": 448
        },
        "id": "aC4IeA00i7kI",
        "outputId": "ab376e85-bd7f-4efd-afec-21f46a35cea5"
      },
<<<<<<< HEAD
=======
      "execution_count": null,
>>>>>>> 46a820aedeac2956412d0d6c48a5edbb169522a1
      "outputs": [
        {
          "data": {
            "text/plain": [
              "<matplotlib.image.AxesImage at 0x78b2ad895c60>"
            ]
          },
          "execution_count": 51,
          "metadata": {},
<<<<<<< HEAD
          "output_type": "execute_result"
=======
          "execution_count": 71
>>>>>>> 46a820aedeac2956412d0d6c48a5edbb169522a1
        },
        {
          "data": {
            "image/png": "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",
            "text/plain": [
              "<Figure size 640x480 with 1 Axes>"
            ]
          },
          "metadata": {},
          "output_type": "display_data"
        }
      ],
      "source": [
        "# Show the image\n",
        "plt.imshow(test_data[4143][0].reshape(28,28))"
      ]
    },
    {
      "cell_type": "code",
      "execution_count": 52,
      "metadata": {
        "id": "nGWZpV1pjUYk"
      },
      "outputs": [],
      "source": [
        "# Pass the image through our model\n",
        "model.eval()\n",
        "with torch.no_grad():\n",
        "    new_prediction = model(test_data[4143][0].view(1,1,28,28)) # batch size of 1, 1 color channel, 28*28 image"
<<<<<<< HEAD
      ]
=======
      ],
      "metadata": {
        "id": "nGWZpV1pjUYk"
      },
      "execution_count": null,
      "outputs": []
>>>>>>> 46a820aedeac2956412d0d6c48a5edbb169522a1
    },
    {
      "cell_type": "code",
      "execution_count": 53,
      "metadata": {
        "colab": {
          "base_uri": "https://localhost:8080/"
        },
        "id": "JdmHKQ9Zj0qo",
        "outputId": "f17033da-5067-46a8-acf3-f717805da660"
      },
<<<<<<< HEAD
=======
      "execution_count": null,
>>>>>>> 46a820aedeac2956412d0d6c48a5edbb169522a1
      "outputs": [
        {
          "data": {
            "text/plain": [
              "tensor([[-42.9492, -36.5479, -42.7564, -29.0235, -19.5813, -25.3028, -40.9603,\n",
              "         -19.3884, -22.8265,   0.0000]])"
            ]
          },
          "execution_count": 53,
          "metadata": {},
<<<<<<< HEAD
          "output_type": "execute_result"
=======
          "execution_count": 73
>>>>>>> 46a820aedeac2956412d0d6c48a5edbb169522a1
        }
      ],
      "source": [
        "# Check the new prediction... get probabilities\n",
        "new_prediction"
      ]
    },
    {
      "cell_type": "code",
      "execution_count": 54,
      "metadata": {
        "colab": {
          "base_uri": "https://localhost:8080/"
        },
        "id": "ZC-o_yYCkTjA",
        "outputId": "3c59d3b3-e494-4f16-87e4-e6198a623f58"
      },
<<<<<<< HEAD
=======
      "execution_count": null,
>>>>>>> 46a820aedeac2956412d0d6c48a5edbb169522a1
      "outputs": [
        {
          "data": {
            "text/plain": [
              "tensor(9)"
            ]
          },
          "execution_count": 54,
          "metadata": {},
<<<<<<< HEAD
          "output_type": "execute_result"
=======
          "execution_count": 74
>>>>>>> 46a820aedeac2956412d0d6c48a5edbb169522a1
        }
      ],
      "source": [
        "new_prediction.argmax()"
      ]
    },
    {
      "cell_type": "code",
      "execution_count": 60,
      "metadata": {
        "colab": {
          "base_uri": "https://localhost:8080/",
          "height": 448
        },
        "id": "67Ze9pS_kXA7",
        "outputId": "64c0fdd7-7707-4e61-9242-680848d92698"
      },
<<<<<<< HEAD
=======
      "execution_count": null,
>>>>>>> 46a820aedeac2956412d0d6c48a5edbb169522a1
      "outputs": [
        {
          "data": {
            "text/plain": [
              "<matplotlib.image.AxesImage at 0x78b2adfb8be0>"
            ]
          },
          "execution_count": 60,
          "metadata": {},
<<<<<<< HEAD
          "output_type": "execute_result"
=======
          "execution_count": 75
>>>>>>> 46a820aedeac2956412d0d6c48a5edbb169522a1
        },
        {
          "data": {
            "image/png": "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",
            "text/plain": [
              "<Figure size 640x480 with 1 Axes>"
            ]
          },
          "metadata": {},
          "output_type": "display_data"
        }
      ],
      "source": [
        "# Show the image\n",
        "plt.imshow(test_data[1978][0].reshape(28,28))"
      ]
    },
    {
      "cell_type": "code",
      "execution_count": 61,
      "metadata": {
        "colab": {
          "base_uri": "https://localhost:8080/"
        },
        "id": "KUkigi1lkooQ",
        "outputId": "9a9ecad7-8d9b-49dd-8812-b58b2f122d13"
      },
<<<<<<< HEAD
=======
      "execution_count": null,
>>>>>>> 46a820aedeac2956412d0d6c48a5edbb169522a1
      "outputs": [
        {
          "name": "stdout",
          "output_type": "stream",
          "text": [
            "Model predicted that it is 4\n"
          ]
        }
      ],
      "source": [
        "# Pass the image through our model\n",
        "model.eval()\n",
        "with torch.no_grad():\n",
        "    new_prediction = model(test_data[1978][0].view(1,1,28,28)) # batch size of 1, 1 color channel, 28*28 image\n",
        "    print(f\"Model predicted that it is {new_prediction.argmax()}\")"
      ]
    },
    {
      "cell_type": "code",
      "execution_count": 62,
      "metadata": {
        "id": "xyieR5HFk3YF"
      },
<<<<<<< HEAD
      "outputs": [],
      "source": [
        "# Save our NN Model\n",
        "torch.save(model.state_dict(), 'mnistmodel.pt')"
      ]
=======
      "execution_count": null,
      "outputs": []
>>>>>>> 46a820aedeac2956412d0d6c48a5edbb169522a1
    },
    {
      "cell_type": "code",
      "execution_count": 7,
      "metadata": {
        "id": "_s1UFVfflXEx"
      },
<<<<<<< HEAD
      "outputs": [],
      "source": [
        "# Load the Saved Model\n",
        "new_model = Model()"
      ]
=======
      "execution_count": null,
      "outputs": []
>>>>>>> 46a820aedeac2956412d0d6c48a5edbb169522a1
    },
    {
      "cell_type": "code",
      "execution_count": 8,
      "metadata": {
        "colab": {
          "base_uri": "https://localhost:8080/"
        },
        "id": "j1yk4czhla6x",
        "outputId": "210142ae-bf62-4a73-cf2c-70d0f4006780"
      },
<<<<<<< HEAD
=======
      "execution_count": null,
>>>>>>> 46a820aedeac2956412d0d6c48a5edbb169522a1
      "outputs": [
        {
          "data": {
            "text/plain": [
              "<All keys matched successfully>"
            ]
          },
          "execution_count": 8,
          "metadata": {},
<<<<<<< HEAD
          "output_type": "execute_result"
=======
          "execution_count": 79
>>>>>>> 46a820aedeac2956412d0d6c48a5edbb169522a1
        }
      ],
      "source": [
        "new_model.load_state_dict(torch.load('mnistmodel.pt'))"
      ]
    },
    {
      "cell_type": "code",
      "execution_count": 9,
      "metadata": {
        "colab": {
          "base_uri": "https://localhost:8080/"
        },
        "id": "ZfdFjnD8lgGe",
        "outputId": "177b679f-d0e3-4b0d-c9fa-805f1a06b543"
      },
<<<<<<< HEAD
=======
      "execution_count": null,
>>>>>>> 46a820aedeac2956412d0d6c48a5edbb169522a1
      "outputs": [
        {
          "data": {
            "text/plain": [
              "Model(\n",
              "  (conv1): Conv2d(1, 12, kernel_size=(3, 3), stride=(1, 1))\n",
              "  (conv2): Conv2d(12, 22, kernel_size=(3, 3), stride=(1, 1))\n",
              "  (fc1): Linear(in_features=550, out_features=320, bias=True)\n",
              "  (fc2): Linear(in_features=320, out_features=160, bias=True)\n",
              "  (fc3): Linear(in_features=160, out_features=80, bias=True)\n",
              "  (fc4): Linear(in_features=80, out_features=40, bias=True)\n",
              "  (fc5): Linear(in_features=40, out_features=20, bias=True)\n",
              "  (fc6): Linear(in_features=20, out_features=10, bias=True)\n",
              ")"
            ]
          },
          "execution_count": 9,
          "metadata": {},
<<<<<<< HEAD
          "output_type": "execute_result"
=======
          "execution_count": 80
>>>>>>> 46a820aedeac2956412d0d6c48a5edbb169522a1
        }
      ],
      "source": [
        "model.eval()"
      ]
    },
    {
      "cell_type": "code",
      "execution_count": 10,
      "metadata": {
        "colab": {
          "base_uri": "https://localhost:8080/"
        },
        "id": "TGbEfce4ljOH",
        "outputId": "3499dab7-09f8-446f-893d-6e3847ea2d4c"
      },
<<<<<<< HEAD
=======
      "execution_count": null,
>>>>>>> 46a820aedeac2956412d0d6c48a5edbb169522a1
      "outputs": [
        {
          "data": {
            "text/plain": [
              "Model(\n",
              "  (conv1): Conv2d(1, 12, kernel_size=(3, 3), stride=(1, 1))\n",
              "  (conv2): Conv2d(12, 22, kernel_size=(3, 3), stride=(1, 1))\n",
              "  (fc1): Linear(in_features=550, out_features=320, bias=True)\n",
              "  (fc2): Linear(in_features=320, out_features=160, bias=True)\n",
              "  (fc3): Linear(in_features=160, out_features=80, bias=True)\n",
              "  (fc4): Linear(in_features=80, out_features=40, bias=True)\n",
              "  (fc5): Linear(in_features=40, out_features=20, bias=True)\n",
              "  (fc6): Linear(in_features=20, out_features=10, bias=True)\n",
              ")"
            ]
          },
          "execution_count": 10,
          "metadata": {},
<<<<<<< HEAD
          "output_type": "execute_result"
=======
          "execution_count": 81
>>>>>>> 46a820aedeac2956412d0d6c48a5edbb169522a1
        }
      ],
      "source": [
        "new_model.eval()"
      ]
    },
    {
      "cell_type": "code",
      "execution_count": 67,
      "metadata": {
        "colab": {
          "base_uri": "https://localhost:8080/"
        },
        "id": "XiI0xdQGllX5",
        "outputId": "8ea08562-8f76-4a14-a5c4-ce70ec5360e2"
      },
<<<<<<< HEAD
=======
      "execution_count": null,
>>>>>>> 46a820aedeac2956412d0d6c48a5edbb169522a1
      "outputs": [
        {
          "name": "stdout",
          "output_type": "stream",
          "text": [
            "Model predicted that it is 4\n"
          ]
        }
      ],
      "source": [
        "# Pass the image through our model\n",
        "new_model.eval()\n",
        "with torch.no_grad():\n",
        "    new_prediction = new_model(test_data[1978][0].view(1,1,28,28)) # batch size of 1, 1 color channel, 28*28 image\n",
        "    print(f\"Model predicted that it is {new_prediction.argmax()}\")"
      ]
    },
    {
      "cell_type": "code",
<<<<<<< HEAD
      "execution_count": 11,
      "metadata": {},
      "outputs": [],
      "source": [
        "from PIL import Image"
      ]
    },
    {
      "cell_type": "code",
      "execution_count": 31,
      "metadata": {},
      "outputs": [],
      "source": [
        "img = Image.open('test\\img_247.jpg')\n",
        "img_tensor = transform(img).unsqueeze(0)"
      ]
    },
    {
      "cell_type": "code",
      "execution_count": 32,
      "metadata": {},
      "outputs": [
        {
          "name": "stdout",
          "output_type": "stream",
          "text": [
            "Model predicted that it is 4\n"
          ]
        }
      ],
=======
      "source": [
        "from PIL import Image"
      ],
      "metadata": {
        "id": "LCMPJ6VQET7t"
      },
      "execution_count": null,
      "outputs": []
    },
    {
      "cell_type": "code",
      "source": [
        "img = Image.open('img_3.jpg')\n",
        "img_tensor = transform(img).unsqueeze(0)"
      ],
      "metadata": {
        "id": "x1HBS8UHEgVs"
      },
      "execution_count": null,
      "outputs": []
    },
    {
      "cell_type": "code",
>>>>>>> 46a820aedeac2956412d0d6c48a5edbb169522a1
      "source": [
        "# Pass the image through our model\n",
        "new_model.eval()\n",
        "with torch.no_grad():\n",
<<<<<<< HEAD
        "    # batch size of 1, 1 color channel, 28*28 image\n",
        "    new_prediction = new_model(img_tensor)\n",
        "    print(f\"Model predicted that it is {new_prediction.argmax()}\")"
=======
        "    new_prediction = new_model(img_tensor) # batch size of 1, 1 color channel, 28*28 image\n",
        "    print(f\"Model predicted that it is {new_prediction.argmax()}\")"
      ],
      "metadata": {
        "colab": {
          "base_uri": "https://localhost:8080/"
        },
        "id": "mrD2qCBRHO08",
        "outputId": "041bbe3f-5655-4d9b-f029-1e3051fa3b6f"
      },
      "execution_count": null,
      "outputs": [
        {
          "output_type": "stream",
          "name": "stdout",
          "text": [
            "Model predicted that it is 9\n"
          ]
        }
>>>>>>> 46a820aedeac2956412d0d6c48a5edbb169522a1
      ]
    },
    {
      "cell_type": "code",
<<<<<<< HEAD
      "execution_count": null,
      "metadata": {},
      "outputs": [],
      "source": []
=======
      "source": [],
      "metadata": {
        "id": "9d43VBPAHsTL"
      },
      "execution_count": null,
      "outputs": []
>>>>>>> 46a820aedeac2956412d0d6c48a5edbb169522a1
    }
  ],
  "metadata": {
    "accelerator": "GPU",
    "colab": {
      "authorship_tag": "ABX9TyMBxS8aezaKbne6jMFA8Rz9",
      "gpuType": "T4",
      "include_colab_link": true,
      "provenance": []
    },
    "kernelspec": {
      "display_name": "Python 3",
      "name": "python3"
    },
    "language_info": {
      "codemirror_mode": {
        "name": "ipython",
        "version": 3
      },
      "file_extension": ".py",
      "mimetype": "text/x-python",
      "name": "python",
      "nbconvert_exporter": "python",
      "pygments_lexer": "ipython3",
      "version": "3.9.7"
    }
  },
  "nbformat": 4,
  "nbformat_minor": 0
}
